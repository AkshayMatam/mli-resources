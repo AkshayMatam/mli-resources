{
 "cells": [
  {
   "cell_type": "markdown",
   "metadata": {},
   "source": [
    "# License \n",
    "***\n",
    "Copyright 2017 J. Patrick Hall, jphall@gwu.edu & Navdeep Gill, navdeep@h2o.ai\n",
    "\n",
    "Permission is hereby granted, free of charge, to any person obtaining a copy of this software and associated documentation files (the \"Software\"), to deal in the Software without restriction, including without limitation the rights to use, copy, modify, merge, publish, distribute, sublicense, and/or sell copies of the Software, and to permit persons to whom the Software is furnished to do so, subject to the following conditions:\n",
    "\n",
    "The above copyright notice and this permission notice shall be included in all copies or substantial portions of the Software.\n",
    "\n",
    "THE SOFTWARE IS PROVIDED \"AS IS\", WITHOUT WARRANTY OF ANY KIND, EXPRESS OR IMPLIED, INCLUDING BUT NOT LIMITED TO THE WARRANTIES OF MERCHANTABILITY, FITNESS FOR A PARTICULAR PURPOSE AND NONINFRINGEMENT. IN NO EVENT SHALL THE AUTHORS OR COPYRIGHT HOLDERS BE LIABLE FOR ANY CLAIM, DAMAGES OR OTHER LIABILITY, WHETHER IN AN ACTION OF CONTRACT, TORT OR OTHERWISE, ARISING FROM, OUT OF OR IN CONNECTION WITH THE SOFTWARE OR THE USE OR OTHER DEALINGS IN THE SOFTWARE."
   ]
  },
  {
   "cell_type": "markdown",
   "metadata": {},
   "source": [
    "# Local Feature Importance and Reason Codes using LOCO\n",
    "***\n",
    "\n",
    "Based on: Lei, Jing, G’Sell, Max, Rinaldo, Alessandro, Tibshirani, Ryan J., and Wasserman, Larry. Distribution-free predictive inference for regression. *Journal of the American Statistical Association*, 2017.\n",
    "\n",
    "http://www.stat.cmu.edu/~ryantibs/papers/conformal.pdf\n",
    "\n",
    "** Instead of dropping one variable and retraining a model to understand the importance of that variable in a model, these examples set a variable to missing and rescore this new, corrupted sample with the original model. This is approach may be more appropriate for nonlineaer models in which nonlinear dependencies can allow variables to nearly completely replace one another when a model is retrained. **"
   ]
  },
  {
   "cell_type": "markdown",
   "metadata": {},
   "source": [
    "## Preliminaries: imports, start h2o, load and clean data "
   ]
  },
  {
   "cell_type": "code",
   "execution_count": 1,
   "metadata": {
    "collapsed": false
   },
   "outputs": [],
   "source": [
    "# imports\n",
    "import h2o \n",
    "import numpy as np\n",
    "import pandas as pd\n",
    "from h2o.estimators.gbm import H2OGradientBoostingEstimator"
   ]
  },
  {
   "cell_type": "code",
   "execution_count": 2,
   "metadata": {
    "collapsed": false
   },
   "outputs": [
    {
     "name": "stdout",
     "output_type": "stream",
     "text": [
      "Checking whether there is an H2O instance running at http://localhost:54321..... not found.\n",
      "Attempting to start a local H2O server...\n",
      "  Java Version: java version \"1.8.0_101\"; Java(TM) SE Runtime Environment (build 1.8.0_101-b13); Java HotSpot(TM) 64-Bit Server VM (build 25.101-b13, mixed mode)\n",
      "  Starting server from /Users/navdeepgill/anaconda/lib/python2.7/site-packages/h2o/backend/bin/h2o.jar\n",
      "  Ice root: /var/folders/55/rj4cny_s29q4vn1wjt_x08sm0000gn/T/tmpm_tnb3\n",
      "  JVM stdout: /var/folders/55/rj4cny_s29q4vn1wjt_x08sm0000gn/T/tmpm_tnb3/h2o_navdeepgill_started_from_python.out\n",
      "  JVM stderr: /var/folders/55/rj4cny_s29q4vn1wjt_x08sm0000gn/T/tmpm_tnb3/h2o_navdeepgill_started_from_python.err\n",
      "  Server is running at http://127.0.0.1:54321\n",
      "Connecting to H2O server at http://127.0.0.1:54321... successful.\n"
     ]
    },
    {
     "data": {
      "text/html": [
       "<div style=\"overflow:auto\"><table style=\"width:50%\"><tr><td>H2O cluster uptime:</td>\n",
       "<td>02 secs</td></tr>\n",
       "<tr><td>H2O cluster version:</td>\n",
       "<td>3.14.0.7</td></tr>\n",
       "<tr><td>H2O cluster version age:</td>\n",
       "<td>11 days </td></tr>\n",
       "<tr><td>H2O cluster name:</td>\n",
       "<td>H2O_from_python_navdeepgill_1zqh1k</td></tr>\n",
       "<tr><td>H2O cluster total nodes:</td>\n",
       "<td>1</td></tr>\n",
       "<tr><td>H2O cluster free memory:</td>\n",
       "<td>3.556 Gb</td></tr>\n",
       "<tr><td>H2O cluster total cores:</td>\n",
       "<td>8</td></tr>\n",
       "<tr><td>H2O cluster allowed cores:</td>\n",
       "<td>8</td></tr>\n",
       "<tr><td>H2O cluster status:</td>\n",
       "<td>accepting new members, healthy</td></tr>\n",
       "<tr><td>H2O connection url:</td>\n",
       "<td>http://127.0.0.1:54321</td></tr>\n",
       "<tr><td>H2O connection proxy:</td>\n",
       "<td>None</td></tr>\n",
       "<tr><td>H2O internal security:</td>\n",
       "<td>False</td></tr>\n",
       "<tr><td>H2O API Extensions:</td>\n",
       "<td>XGBoost, Algos, AutoML, Core V3, Core V4</td></tr>\n",
       "<tr><td>Python version:</td>\n",
       "<td>2.7.11 final</td></tr></table></div>"
      ],
      "text/plain": [
       "--------------------------  ----------------------------------------\n",
       "H2O cluster uptime:         02 secs\n",
       "H2O cluster version:        3.14.0.7\n",
       "H2O cluster version age:    11 days\n",
       "H2O cluster name:           H2O_from_python_navdeepgill_1zqh1k\n",
       "H2O cluster total nodes:    1\n",
       "H2O cluster free memory:    3.556 Gb\n",
       "H2O cluster total cores:    8\n",
       "H2O cluster allowed cores:  8\n",
       "H2O cluster status:         accepting new members, healthy\n",
       "H2O connection url:         http://127.0.0.1:54321\n",
       "H2O connection proxy:\n",
       "H2O internal security:      False\n",
       "H2O API Extensions:         XGBoost, Algos, AutoML, Core V3, Core V4\n",
       "Python version:             2.7.11 final\n",
       "--------------------------  ----------------------------------------"
      ]
     },
     "metadata": {},
     "output_type": "display_data"
    }
   ],
   "source": [
    "# start h2o\n",
    "h2o.init()\n",
    "h2o.remove_all()\n",
    "h2o.show_progress()"
   ]
  },
  {
   "cell_type": "markdown",
   "metadata": {},
   "source": [
    "#### Load and prepare data for modeling"
   ]
  },
  {
   "cell_type": "code",
   "execution_count": 3,
   "metadata": {
    "collapsed": false
   },
   "outputs": [
    {
     "name": "stdout",
     "output_type": "stream",
     "text": [
      "Parse progress: |█████████████████████████████████████████████████████████| 100%\n"
     ]
    }
   ],
   "source": [
    "# load clean data\n",
    "path = '../data/train.csv'\n",
    "frame = h2o.import_file(path=path)"
   ]
  },
  {
   "cell_type": "code",
   "execution_count": 4,
   "metadata": {
    "collapsed": false
   },
   "outputs": [],
   "source": [
    "# assign target and inputs\n",
    "y = 'SalePrice'\n",
    "X = [name for name in frame.columns if name not in [y, 'Id']]"
   ]
  },
  {
   "cell_type": "markdown",
   "metadata": {},
   "source": [
    "#### LOCO is simpler to use with data containing no missing values"
   ]
  },
  {
   "cell_type": "code",
   "execution_count": 5,
   "metadata": {
    "collapsed": true
   },
   "outputs": [],
   "source": [
    "# determine column types\n",
    "# impute\n",
    "reals, enums = [], []\n",
    "for key, val in frame.types.items():\n",
    "    if key in X:\n",
    "        if val == 'enum':\n",
    "            enums.append(key)\n",
    "        else: \n",
    "            reals.append(key)\n",
    "            \n",
    "_ = frame[reals].impute(method='median')\n",
    "_ = frame[enums].impute(method='mode')"
   ]
  },
  {
   "cell_type": "code",
   "execution_count": 6,
   "metadata": {
    "collapsed": true
   },
   "outputs": [],
   "source": [
    "# split into training and validation\n",
    "train, valid = frame.split_frame([0.7])"
   ]
  },
  {
   "cell_type": "markdown",
   "metadata": {},
   "source": [
    "#### Understanding linear correlation and nonlinear dependencies are important for LOCO.\n",
    "* If strong relationships are present, retraining the model after removing an input will simply allow the linearly correlated or nonlinearly dependent variables to make up for the impact of the removed input. This why we will set to missing here, and **not** drop and retrain.\n",
    "* If such relationships are present, models must be regularized to prevent correlation or other dependencies from creating instability in model parameters or rules. (H2O GBM is regularized by column and row sampling.)\n",
    "* For H2O GBM, setting a variable to missing causes it to follow the majority path in each decision tree. The interpretation of LOCO becomes the numeric difference between the local behavior of the variable and the most common local behavior.\n",
    "* Because of linear correlation and nonlinear dependence, LOCO values are valid only for a given data and feature set. "
   ]
  },
  {
   "cell_type": "code",
   "execution_count": 7,
   "metadata": {
    "collapsed": false
   },
   "outputs": [
    {
     "name": "stdout",
     "output_type": "stream",
     "text": [
      "('GarageYrBlt', 'YearBuilt')\n",
      "('GrLivArea', 'TotRmsAbvGrd')\n",
      "('YearBuilt', 'GarageYrBlt')\n",
      "('1stFlrSF', 'TotalBsmtSF')\n",
      "('TotalBsmtSF', '1stFlrSF')\n",
      "('TotRmsAbvGrd', 'GrLivArea')\n",
      "('GarageArea', 'GarageCars')\n",
      "('GarageCars', 'GarageArea')\n"
     ]
    }
   ],
   "source": [
    "# print out linearly correlated pairs\n",
    "corr = train[reals].cor().as_data_frame()\n",
    "for i in range(0, corr.shape[0]):\n",
    "    for j in range(0, corr.shape[1]):\n",
    "        if i != j:\n",
    "            if np.abs(corr.iat[i, j]) > 0.7:\n",
    "                print(corr.columns[i], corr.columns[j])"
   ]
  },
  {
   "cell_type": "markdown",
   "metadata": {},
   "source": [
    "It's likely that even more nonlinearly dependent relationships exist between inputs. Nonlinearly relationships can also behave differently at global and local scales."
   ]
  },
  {
   "cell_type": "markdown",
   "metadata": {
    "collapsed": true
   },
   "source": [
    "#### Removing one var from each correlated pair may increase stability in the model and its explanations"
   ]
  },
  {
   "cell_type": "code",
   "execution_count": 8,
   "metadata": {
    "collapsed": false
   },
   "outputs": [],
   "source": [
    "X_reals_decorr = [i for i in reals if i not in  ['GarageYrBlt', 'TotRmsAbvGrd', 'TotalBsmtSF', 'GarageCars']]"
   ]
  },
  {
   "cell_type": "markdown",
   "metadata": {},
   "source": [
    "## Train a predictive model"
   ]
  },
  {
   "cell_type": "code",
   "execution_count": 9,
   "metadata": {
    "collapsed": false
   },
   "outputs": [
    {
     "name": "stdout",
     "output_type": "stream",
     "text": [
      "gbm Model Build progress: |███████████████████████████████████████████████| 100%\n",
      "gbm prediction progress: |████████████████████████████████████████████████| 100%\n"
     ]
    }
   ],
   "source": [
    "# train GBM model\n",
    "model = H2OGradientBoostingEstimator(ntrees=100,\n",
    "                                     max_depth=10,\n",
    "                                     distribution='huber',\n",
    "                                     learn_rate=0.1,\n",
    "                                     stopping_rounds=5,\n",
    "                                     seed=12345)\n",
    "\n",
    "model.train(y=y, x=X_reals_decorr, training_frame=train, validation_frame=valid)\n",
    "\n",
    "preds = valid['Id'].cbind(model.predict(valid))"
   ]
  },
  {
   "cell_type": "markdown",
   "metadata": {},
   "source": [
    "## Rescore predictive model\n",
    "* Each time leaving one input (covariate) out by setting it to missing\n",
    "* To generate local feature importance values for each decision"
   ]
  },
  {
   "cell_type": "code",
   "execution_count": 10,
   "metadata": {
    "collapsed": false
   },
   "outputs": [
    {
     "name": "stdout",
     "output_type": "stream",
     "text": [
      "LOCO Progress: 3SsnPorch (1/32) ...\n",
      "LOCO Progress: OverallQual (2/32) ...\n",
      "LOCO Progress: LotArea (3/32) ...\n",
      "LOCO Progress: GrLivArea (4/32) ...\n",
      "LOCO Progress: YearRemodAdd (5/32) ...\n",
      "LOCO Progress: EnclosedPorch (6/32) ...\n",
      "LOCO Progress: BsmtFullBath (7/32) ...\n",
      "LOCO Progress: LotFrontage (8/32) ...\n",
      "LOCO Progress: KitchenAbvGr (9/32) ...\n",
      "LOCO Progress: MoSold (10/32) ...\n",
      "LOCO Progress: OpenPorchSF (11/32) ...\n",
      "LOCO Progress: BsmtUnfSF (12/32) ...\n",
      "LOCO Progress: FullBath (13/32) ...\n",
      "LOCO Progress: MSSubClass (14/32) ...\n",
      "LOCO Progress: YearBuilt (15/32) ...\n",
      "LOCO Progress: PoolArea (16/32) ...\n",
      "LOCO Progress: LowQualFinSF (17/32) ...\n",
      "LOCO Progress: 2ndFlrSF (18/32) ...\n",
      "LOCO Progress: HalfBath (19/32) ...\n",
      "LOCO Progress: OverallCond (20/32) ...\n",
      "LOCO Progress: WoodDeckSF (21/32) ...\n",
      "LOCO Progress: MasVnrArea (22/32) ...\n",
      "LOCO Progress: 1stFlrSF (23/32) ...\n",
      "LOCO Progress: MiscVal (24/32) ...\n",
      "LOCO Progress: Fireplaces (25/32) ...\n",
      "LOCO Progress: BsmtHalfBath (26/32) ...\n",
      "LOCO Progress: YrSold (27/32) ...\n",
      "LOCO Progress: BsmtFinSF1 (28/32) ...\n",
      "LOCO Progress: BsmtFinSF2 (29/32) ...\n",
      "LOCO Progress: ScreenPorch (30/32) ...\n",
      "LOCO Progress: BedroomAbvGr (31/32) ...\n",
      "LOCO Progress: GarageArea (32/32) ...\n",
      "Done.\n"
     ]
    },
    {
     "data": {
      "text/html": [
       "<table>\n",
       "<thead>\n",
       "<tr><th style=\"text-align: right;\">  Id</th><th style=\"text-align: right;\">  predict</th><th style=\"text-align: right;\">  3SsnPorch</th><th style=\"text-align: right;\">  OverallQual</th><th style=\"text-align: right;\">    LotArea</th><th style=\"text-align: right;\">  GrLivArea</th><th style=\"text-align: right;\">  YearRemodAdd</th><th style=\"text-align: right;\">  EnclosedPorch</th><th style=\"text-align: right;\">  BsmtFullBath</th><th style=\"text-align: right;\">  LotFrontage</th><th style=\"text-align: right;\">  KitchenAbvGr</th><th style=\"text-align: right;\">   MoSold</th><th style=\"text-align: right;\">  OpenPorchSF</th><th style=\"text-align: right;\">  BsmtUnfSF</th><th style=\"text-align: right;\">  FullBath</th><th style=\"text-align: right;\">  MSSubClass</th><th style=\"text-align: right;\">  YearBuilt</th><th style=\"text-align: right;\">  PoolArea</th><th style=\"text-align: right;\">  LowQualFinSF</th><th style=\"text-align: right;\">  2ndFlrSF</th><th style=\"text-align: right;\">  HalfBath</th><th style=\"text-align: right;\">  OverallCond</th><th style=\"text-align: right;\">  WoodDeckSF</th><th style=\"text-align: right;\">  MasVnrArea</th><th style=\"text-align: right;\">  1stFlrSF</th><th style=\"text-align: right;\">  MiscVal</th><th style=\"text-align: right;\">  Fireplaces</th><th style=\"text-align: right;\">  BsmtHalfBath</th><th style=\"text-align: right;\">   YrSold</th><th style=\"text-align: right;\">  BsmtFinSF1</th><th style=\"text-align: right;\">  BsmtFinSF2</th><th style=\"text-align: right;\">  ScreenPorch</th><th style=\"text-align: right;\">  BedroomAbvGr</th><th style=\"text-align: right;\">  GarageArea</th></tr>\n",
       "</thead>\n",
       "<tbody>\n",
       "<tr><td style=\"text-align: right;\">   3</td><td style=\"text-align: right;\">   219669</td><td style=\"text-align: right;\">          0</td><td style=\"text-align: right;\">   -29672.8  </td><td style=\"text-align: right;\"> -1842.28  </td><td style=\"text-align: right;\">  -20642.4 </td><td style=\"text-align: right;\">     -1553.97 </td><td style=\"text-align: right;\">              0</td><td style=\"text-align: right;\">      644.04  </td><td style=\"text-align: right;\">     4215.53 </td><td style=\"text-align: right;\">          0   </td><td style=\"text-align: right;\"> 1366.83 </td><td style=\"text-align: right;\">      779.964</td><td style=\"text-align: right;\">   -194.699</td><td style=\"text-align: right;\">      0   </td><td style=\"text-align: right;\">   -2150.73 </td><td style=\"text-align: right;\">  -3175.83 </td><td style=\"text-align: right;\">         0</td><td style=\"text-align: right;\">             0</td><td style=\"text-align: right;\">  4387.69 </td><td style=\"text-align: right;\">  1135.81 </td><td style=\"text-align: right;\">        0    </td><td style=\"text-align: right;\">     552.362</td><td style=\"text-align: right;\">     508.887</td><td style=\"text-align: right;\">  8601.44 </td><td style=\"text-align: right;\">        0</td><td style=\"text-align: right;\">    -906.323</td><td style=\"text-align: right;\">          0   </td><td style=\"text-align: right;\">   0     </td><td style=\"text-align: right;\">   -2605.98 </td><td style=\"text-align: right;\">     0      </td><td style=\"text-align: right;\">            0</td><td style=\"text-align: right;\">         0    </td><td style=\"text-align: right;\">   -7670.35 </td></tr>\n",
       "<tr><td style=\"text-align: right;\">   5</td><td style=\"text-align: right;\">   305626</td><td style=\"text-align: right;\">          0</td><td style=\"text-align: right;\">   -84644.3  </td><td style=\"text-align: right;\"> -3149.24  </td><td style=\"text-align: right;\">   -5193.99</td><td style=\"text-align: right;\">      7357.58 </td><td style=\"text-align: right;\">              0</td><td style=\"text-align: right;\">      996.119 </td><td style=\"text-align: right;\">    -2581.92 </td><td style=\"text-align: right;\">          0   </td><td style=\"text-align: right;\"> 8194.09 </td><td style=\"text-align: right;\">      293.259</td><td style=\"text-align: right;\">  -1421.65 </td><td style=\"text-align: right;\">      0   </td><td style=\"text-align: right;\">       0    </td><td style=\"text-align: right;\">  -1811    </td><td style=\"text-align: right;\">         0</td><td style=\"text-align: right;\">             0</td><td style=\"text-align: right;\"> -1696.73 </td><td style=\"text-align: right;\">  -513.491</td><td style=\"text-align: right;\">        0    </td><td style=\"text-align: right;\">    -913.395</td><td style=\"text-align: right;\">    -683.321</td><td style=\"text-align: right;\">  9583.2  </td><td style=\"text-align: right;\">        0</td><td style=\"text-align: right;\">       0    </td><td style=\"text-align: right;\">          0   </td><td style=\"text-align: right;\">-220.908 </td><td style=\"text-align: right;\">    -860.999</td><td style=\"text-align: right;\">     0      </td><td style=\"text-align: right;\">            0</td><td style=\"text-align: right;\">         0    </td><td style=\"text-align: right;\">  -29579.7  </td></tr>\n",
       "<tr><td style=\"text-align: right;\">  11</td><td style=\"text-align: right;\">   132835</td><td style=\"text-align: right;\">          0</td><td style=\"text-align: right;\">      203.503</td><td style=\"text-align: right;\"> -1552.12  </td><td style=\"text-align: right;\">    3269.56</td><td style=\"text-align: right;\">      2541.27 </td><td style=\"text-align: right;\">              0</td><td style=\"text-align: right;\">     -505.083 </td><td style=\"text-align: right;\">     -773.066</td><td style=\"text-align: right;\">          0   </td><td style=\"text-align: right;\">  252.899</td><td style=\"text-align: right;\">     1043.16 </td><td style=\"text-align: right;\">    585.852</td><td style=\"text-align: right;\">      0   </td><td style=\"text-align: right;\">    1018.39 </td><td style=\"text-align: right;\">      0    </td><td style=\"text-align: right;\">         0</td><td style=\"text-align: right;\">             0</td><td style=\"text-align: right;\">     0    </td><td style=\"text-align: right;\">     0    </td><td style=\"text-align: right;\">     2651.22 </td><td style=\"text-align: right;\">       0    </td><td style=\"text-align: right;\">       0    </td><td style=\"text-align: right;\">   377.193</td><td style=\"text-align: right;\">        0</td><td style=\"text-align: right;\">    2064.28 </td><td style=\"text-align: right;\">          0   </td><td style=\"text-align: right;\">   0     </td><td style=\"text-align: right;\">   -3320.07 </td><td style=\"text-align: right;\">     0      </td><td style=\"text-align: right;\">            0</td><td style=\"text-align: right;\">       156.415</td><td style=\"text-align: right;\">     849.442</td></tr>\n",
       "<tr><td style=\"text-align: right;\">  17</td><td style=\"text-align: right;\">   146752</td><td style=\"text-align: right;\">          0</td><td style=\"text-align: right;\">    -9272.72 </td><td style=\"text-align: right;\"> -3716.28  </td><td style=\"text-align: right;\">    9248.1 </td><td style=\"text-align: right;\">      2582.43 </td><td style=\"text-align: right;\">              0</td><td style=\"text-align: right;\">     -153.634 </td><td style=\"text-align: right;\">        0    </td><td style=\"text-align: right;\">          0   </td><td style=\"text-align: right;\">  459.067</td><td style=\"text-align: right;\">        0    </td><td style=\"text-align: right;\">    411.278</td><td style=\"text-align: right;\">      0   </td><td style=\"text-align: right;\">    -894.895</td><td style=\"text-align: right;\">    206.248</td><td style=\"text-align: right;\">         0</td><td style=\"text-align: right;\">             0</td><td style=\"text-align: right;\">     0    </td><td style=\"text-align: right;\">     0    </td><td style=\"text-align: right;\">    -1917.83 </td><td style=\"text-align: right;\">       0    </td><td style=\"text-align: right;\">     423.194</td><td style=\"text-align: right;\">  -187.085</td><td style=\"text-align: right;\">        0</td><td style=\"text-align: right;\">     340.351</td><td style=\"text-align: right;\">          0   </td><td style=\"text-align: right;\"> 871.497 </td><td style=\"text-align: right;\">    -706.887</td><td style=\"text-align: right;\">     0      </td><td style=\"text-align: right;\">            0</td><td style=\"text-align: right;\">         0    </td><td style=\"text-align: right;\">   -1721.67 </td></tr>\n",
       "<tr><td style=\"text-align: right;\">  18</td><td style=\"text-align: right;\">   121835</td><td style=\"text-align: right;\">          0</td><td style=\"text-align: right;\">     3771.09 </td><td style=\"text-align: right;\">    19.3633</td><td style=\"text-align: right;\">   -1495.18</td><td style=\"text-align: right;\">       831.685</td><td style=\"text-align: right;\">              0</td><td style=\"text-align: right;\">        0     </td><td style=\"text-align: right;\">      563.803</td><td style=\"text-align: right;\">       1041.42</td><td style=\"text-align: right;\"> -300.123</td><td style=\"text-align: right;\">        0    </td><td style=\"text-align: right;\">   5030.9  </td><td style=\"text-align: right;\">  -7058.8 </td><td style=\"text-align: right;\">    4495.39 </td><td style=\"text-align: right;\">    185.039</td><td style=\"text-align: right;\">         0</td><td style=\"text-align: right;\">             0</td><td style=\"text-align: right;\">   743.97 </td><td style=\"text-align: right;\">     0    </td><td style=\"text-align: right;\">      802.889</td><td style=\"text-align: right;\">       0    </td><td style=\"text-align: right;\">       0    </td><td style=\"text-align: right;\"> -3824.37 </td><td style=\"text-align: right;\">        0</td><td style=\"text-align: right;\">    5506.36 </td><td style=\"text-align: right;\">          0   </td><td style=\"text-align: right;\"> -45.078 </td><td style=\"text-align: right;\">    7629.3  </td><td style=\"text-align: right;\">     0      </td><td style=\"text-align: right;\">            0</td><td style=\"text-align: right;\">       474.567</td><td style=\"text-align: right;\">   -1889.01 </td></tr>\n",
       "<tr><td style=\"text-align: right;\">  21</td><td style=\"text-align: right;\">   323753</td><td style=\"text-align: right;\">          0</td><td style=\"text-align: right;\">  -122020    </td><td style=\"text-align: right;\"> -5894.11  </td><td style=\"text-align: right;\">  -30490.2 </td><td style=\"text-align: right;\">     -7095.22 </td><td style=\"text-align: right;\">              0</td><td style=\"text-align: right;\">        0     </td><td style=\"text-align: right;\">    -3228.57 </td><td style=\"text-align: right;\">          0   </td><td style=\"text-align: right;\"> 7041.86 </td><td style=\"text-align: right;\">    -1041.19 </td><td style=\"text-align: right;\">   2184.8  </td><td style=\"text-align: right;\">  -8936.85</td><td style=\"text-align: right;\">       0    </td><td style=\"text-align: right;\"> -10578.2  </td><td style=\"text-align: right;\">         0</td><td style=\"text-align: right;\">             0</td><td style=\"text-align: right;\"> -1141.99 </td><td style=\"text-align: right;\">   685.831</td><td style=\"text-align: right;\">        0    </td><td style=\"text-align: right;\">   -7677.91 </td><td style=\"text-align: right;\">   -8603.46 </td><td style=\"text-align: right;\">  5848.7  </td><td style=\"text-align: right;\">        0</td><td style=\"text-align: right;\">       0    </td><td style=\"text-align: right;\">          0   </td><td style=\"text-align: right;\">   0     </td><td style=\"text-align: right;\">   39873.2  </td><td style=\"text-align: right;\">     0      </td><td style=\"text-align: right;\">            0</td><td style=\"text-align: right;\">         0    </td><td style=\"text-align: right;\">  -13757.2  </td></tr>\n",
       "<tr><td style=\"text-align: right;\">  24</td><td style=\"text-align: right;\">   140779</td><td style=\"text-align: right;\">          0</td><td style=\"text-align: right;\">    -1709.46 </td><td style=\"text-align: right;\">  5650.03  </td><td style=\"text-align: right;\">    9922.57</td><td style=\"text-align: right;\">     -2468.43 </td><td style=\"text-align: right;\">              0</td><td style=\"text-align: right;\">      261.4   </td><td style=\"text-align: right;\">     5158.92 </td><td style=\"text-align: right;\">          0   </td><td style=\"text-align: right;\">    0    </td><td style=\"text-align: right;\">    -2795.57 </td><td style=\"text-align: right;\">      0    </td><td style=\"text-align: right;\">      0   </td><td style=\"text-align: right;\">   -1254.71 </td><td style=\"text-align: right;\">  -1834.46 </td><td style=\"text-align: right;\">         0</td><td style=\"text-align: right;\">             0</td><td style=\"text-align: right;\">  -110.215</td><td style=\"text-align: right;\">     0    </td><td style=\"text-align: right;\">    -2293.03 </td><td style=\"text-align: right;\">    -723.293</td><td style=\"text-align: right;\">       0    </td><td style=\"text-align: right;\">  -775.353</td><td style=\"text-align: right;\">        0</td><td style=\"text-align: right;\">   -2478.49 </td><td style=\"text-align: right;\">          0   </td><td style=\"text-align: right;\">1020.46  </td><td style=\"text-align: right;\">   -2420.33 </td><td style=\"text-align: right;\">     0      </td><td style=\"text-align: right;\">            0</td><td style=\"text-align: right;\">         0    </td><td style=\"text-align: right;\">   -2187.26 </td></tr>\n",
       "<tr><td style=\"text-align: right;\">  25</td><td style=\"text-align: right;\">   142326</td><td style=\"text-align: right;\">          0</td><td style=\"text-align: right;\">      268.423</td><td style=\"text-align: right;\">   861.367 </td><td style=\"text-align: right;\">    6064.59</td><td style=\"text-align: right;\">     -5545.37 </td><td style=\"text-align: right;\">              0</td><td style=\"text-align: right;\">      -99.2566</td><td style=\"text-align: right;\">        0    </td><td style=\"text-align: right;\">          0   </td><td style=\"text-align: right;\">    0    </td><td style=\"text-align: right;\">     1356.7  </td><td style=\"text-align: right;\">    636.835</td><td style=\"text-align: right;\">      0   </td><td style=\"text-align: right;\">     852.146</td><td style=\"text-align: right;\">  -2528.14 </td><td style=\"text-align: right;\">         0</td><td style=\"text-align: right;\">             0</td><td style=\"text-align: right;\">     0    </td><td style=\"text-align: right;\">     0    </td><td style=\"text-align: right;\">     -781.549</td><td style=\"text-align: right;\">    -281.692</td><td style=\"text-align: right;\">       0    </td><td style=\"text-align: right;\">-10881.4  </td><td style=\"text-align: right;\">        0</td><td style=\"text-align: right;\">    -828.635</td><td style=\"text-align: right;\">          0   </td><td style=\"text-align: right;\"> 939.163 </td><td style=\"text-align: right;\">    4174.74 </td><td style=\"text-align: right;\"> -5782.99   </td><td style=\"text-align: right;\">            0</td><td style=\"text-align: right;\">       156.415</td><td style=\"text-align: right;\">   13359.4  </td></tr>\n",
       "<tr><td style=\"text-align: right;\">  27</td><td style=\"text-align: right;\">   127410</td><td style=\"text-align: right;\">          0</td><td style=\"text-align: right;\">     -292.733</td><td style=\"text-align: right;\">  1821.56  </td><td style=\"text-align: right;\">    7614.96</td><td style=\"text-align: right;\">     -4471.56 </td><td style=\"text-align: right;\">              0</td><td style=\"text-align: right;\">      434.405 </td><td style=\"text-align: right;\">      299.43 </td><td style=\"text-align: right;\">          0   </td><td style=\"text-align: right;\">    0    </td><td style=\"text-align: right;\">      199.68 </td><td style=\"text-align: right;\">   1456.6  </td><td style=\"text-align: right;\">      0   </td><td style=\"text-align: right;\">       0    </td><td style=\"text-align: right;\">    999.945</td><td style=\"text-align: right;\">         0</td><td style=\"text-align: right;\">             0</td><td style=\"text-align: right;\">   397.849</td><td style=\"text-align: right;\">     0    </td><td style=\"text-align: right;\">    -1232.15 </td><td style=\"text-align: right;\">    -770.748</td><td style=\"text-align: right;\">       0    </td><td style=\"text-align: right;\">  5523.22 </td><td style=\"text-align: right;\">        0</td><td style=\"text-align: right;\">     336.627</td><td style=\"text-align: right;\">      -1677.73</td><td style=\"text-align: right;\"> 504.44  </td><td style=\"text-align: right;\">    2415.54 </td><td style=\"text-align: right;\">    -7.84971</td><td style=\"text-align: right;\">            0</td><td style=\"text-align: right;\">       150.809</td><td style=\"text-align: right;\">   -7918.21 </td></tr>\n",
       "<tr><td style=\"text-align: right;\">  29</td><td style=\"text-align: right;\">   182020</td><td style=\"text-align: right;\">          0</td><td style=\"text-align: right;\">    -3786.64 </td><td style=\"text-align: right;\">-13604     </td><td style=\"text-align: right;\">  -23785.3 </td><td style=\"text-align: right;\">     -1144.37 </td><td style=\"text-align: right;\">              0</td><td style=\"text-align: right;\">    -1074.71  </td><td style=\"text-align: right;\">     1509.65 </td><td style=\"text-align: right;\">          0   </td><td style=\"text-align: right;\">-1788.5  </td><td style=\"text-align: right;\">    -4412.3  </td><td style=\"text-align: right;\">      0    </td><td style=\"text-align: right;\">      0   </td><td style=\"text-align: right;\">    -168.19 </td><td style=\"text-align: right;\">   1507.81 </td><td style=\"text-align: right;\">         0</td><td style=\"text-align: right;\">             0</td><td style=\"text-align: right;\">     0    </td><td style=\"text-align: right;\">     0    </td><td style=\"text-align: right;\">    -2873.93 </td><td style=\"text-align: right;\">    -393.519</td><td style=\"text-align: right;\">       0    </td><td style=\"text-align: right;\"> -6042.55 </td><td style=\"text-align: right;\">        0</td><td style=\"text-align: right;\">   -4903.48 </td><td style=\"text-align: right;\">          0   </td><td style=\"text-align: right;\"> -37.6849</td><td style=\"text-align: right;\">  -20593.8  </td><td style=\"text-align: right;\">     0      </td><td style=\"text-align: right;\">            0</td><td style=\"text-align: right;\">     -1179.18 </td><td style=\"text-align: right;\">    3300.35 </td></tr>\n",
       "</tbody>\n",
       "</table>"
      ]
     },
     "metadata": {},
     "output_type": "display_data"
    },
    {
     "data": {
      "text/plain": []
     },
     "execution_count": 10,
     "metadata": {},
     "output_type": "execute_result"
    }
   ],
   "source": [
    "h2o.no_progress()\n",
    "\n",
    "for k, i in enumerate(X_reals_decorr):\n",
    "\n",
    "    # train and predict with Xi set to missing\n",
    "    valid_loco = h2o.deep_copy(valid, 'valid_loco')\n",
    "    valid_loco[i] = np.nan\n",
    "    preds_loco = model.predict(valid_loco)\n",
    "    \n",
    "    # create a new, named column for the LOCO prediction\n",
    "    preds_loco.columns = [i]\n",
    "    preds = preds.cbind(preds_loco)\n",
    "    \n",
    "    # subtract the LOCO prediction from \n",
    "    preds[i] = preds[i] - preds['predict']\n",
    "    \n",
    "    print('LOCO Progress: ' + i + ' (' + str(k+1) + '/' + str(len(X_reals_decorr)) + ') ...')\n",
    "    \n",
    "print('Done.')  \n",
    "\n",
    "preds.head()"
   ]
  },
  {
   "cell_type": "markdown",
   "metadata": {},
   "source": [
    "The numeric values in each column are an estimate of how much each variable contributed to each decision. These values can tell you how a variable and it's values were weighted in any given decision by the model. These values are crucially important for machine learning interpretability and are often to referred to \"local feature importance\", \"reason codes\", or \"turn-down codes.\" The latter phrases are borrowed from credit scoring. Credit lenders must provide reasons for turning down a credit application, even for automated decisions. Reason codes can be easily extracted from LOCO local feature importance values, by simply ranking the variables that played the largest role in any given decision."
   ]
  },
  {
   "cell_type": "markdown",
   "metadata": {},
   "source": [
    "#### Helper function for finding quantile indices"
   ]
  },
  {
   "cell_type": "code",
   "execution_count": 11,
   "metadata": {
    "collapsed": false
   },
   "outputs": [
    {
     "name": "stdout",
     "output_type": "stream",
     "text": [
      "{0: 1338.0, 99: 524.0, 70: 447.0, 40: 1205.0, 10: 269.0, 80: 221.0, 50: 64.0, 20: 985.0, 90: 307.0, 60: 1259.0, 30: 1451.0}\n"
     ]
    }
   ],
   "source": [
    "def get_quantile_dict(y, id_, frame):\n",
    "\n",
    "    \"\"\" Returns the percentiles of a column y as the indices for another column id_.\n",
    "    \n",
    "    Args:\n",
    "        y: Column in which to find percentiles.\n",
    "        id_: Id column that stores indices for percentiles of y.\n",
    "        frame: H2OFrame containing y and id_. \n",
    "    \n",
    "    Returns:\n",
    "        Dictionary of percentile values and index column values.\n",
    "    \n",
    "    \"\"\"\n",
    "    \n",
    "    quantiles_df = frame.as_data_frame()\n",
    "    quantiles_df.sort_values(y, inplace=True)\n",
    "    quantiles_df.reset_index(inplace=True)\n",
    "    \n",
    "    percentiles_dict = {}\n",
    "    percentiles_dict[0] = quantiles_df.loc[0, id_]\n",
    "    percentiles_dict[99] = quantiles_df.loc[quantiles_df.shape[0]-1, id_]\n",
    "    inc = quantiles_df.shape[0]//10\n",
    "    \n",
    "    for i in range(1, 10):\n",
    "        percentiles_dict[i * 10] = quantiles_df.loc[i * inc,  id_]\n",
    "\n",
    "    return percentiles_dict\n",
    "\n",
    "quantile_dict = get_quantile_dict('predict', 'Id', preds)\n",
    "print(quantile_dict)"
   ]
  },
  {
   "cell_type": "markdown",
   "metadata": {},
   "source": [
    "#### Plot some reason codes for a representative row"
   ]
  },
  {
   "cell_type": "code",
   "execution_count": 12,
   "metadata": {
    "collapsed": true
   },
   "outputs": [],
   "source": [
    "%matplotlib inline"
   ]
  },
  {
   "cell_type": "code",
   "execution_count": 13,
   "metadata": {
    "collapsed": false
   },
   "outputs": [
    {
     "data": {
      "image/png": "[encoded data removed]",
      "text/plain": [
       "<matplotlib.figure.Figure at 0x1181c2c50>"
      ]
     },
     "metadata": {},
     "output_type": "display_data"
    }
   ],
   "source": [
    "median_loco = preds[preds['Id'] == int(quantile_dict[50]), :].as_data_frame().drop(['Id', 'predict'], axis=1)\n",
    "median_loco = median_loco.T.sort_values(by=0)[:5]\n",
    "_ = median_loco.plot(kind='bar', \n",
    "                     title='Negative Reason Codes for the Median of Predicted Sale Price\\n', \n",
    "                     legend=False)"
   ]
  },
  {
   "cell_type": "code",
   "execution_count": 14,
   "metadata": {
    "collapsed": false
   },
   "outputs": [
    {
     "data": {
      "image/png": "[encoded data removed]",
      "text/plain": [
       "<matplotlib.figure.Figure at 0x119a949d0>"
      ]
     },
     "metadata": {},
     "output_type": "display_data"
    }
   ],
   "source": [
    "median_loco = preds[preds['Id'] == int(quantile_dict[50]), :].as_data_frame().drop(['Id', 'predict'], axis=1)\n",
    "median_loco = median_loco.T.sort_values(by=0, ascending=False)[:5]\n",
    "_ = median_loco.plot(kind='bar', \n",
    "                     title='Positive Reason Codes for the Median of Predicted Sale Price\\n', \n",
    "                     color='r',\n",
    "                     legend=False)"
   ]
  },
  {
   "cell_type": "markdown",
   "metadata": {},
   "source": [
    "## Ensembling explantions to reduce local variance\n",
    "Explanations derived from high variance machine learning models can be unstable. One general way to decrease variance is to ensemble the results of many models."
   ]
  },
  {
   "cell_type": "markdown",
   "metadata": {},
   "source": [
    "#### Train multiple models"
   ]
  },
  {
   "cell_type": "code",
   "execution_count": 15,
   "metadata": {
    "collapsed": false
   },
   "outputs": [
    {
     "name": "stdout",
     "output_type": "stream",
     "text": [
      "Training Progress: model 1/10 ...\n",
      "Training Progress: model 2/10 ...\n",
      "Training Progress: model 3/10 ...\n",
      "Training Progress: model 4/10 ...\n",
      "Training Progress: model 5/10 ...\n",
      "Training Progress: model 6/10 ...\n",
      "Training Progress: model 7/10 ...\n",
      "Training Progress: model 8/10 ...\n",
      "Training Progress: model 9/10 ...\n",
      "Training Progress: model 10/10 ...\n",
      "Done.\n"
     ]
    }
   ],
   "source": [
    "n_models = 10 # select number of models\n",
    "\n",
    "models = []\n",
    "pred_frames = []\n",
    "\n",
    "for i in range(0, n_models):\n",
    "\n",
    "    # store models\n",
    "    models.append(H2OGradientBoostingEstimator(ntrees=500,\n",
    "                                               max_depth=2 * (i + 1),\n",
    "                                               distribution='huber',\n",
    "                                               learn_rate=0.01 * (i + 1),\n",
    "                                               stopping_rounds=5,\n",
    "                                               seed=i + 1))\n",
    "    \n",
    "    # train models\n",
    "    models[i].train(y=y, x=X_reals_decorr, training_frame=train, validation_frame=valid)\n",
    "    \n",
    "    # store predictions\n",
    "    pred_frames.append(valid['Id'].cbind(models[i].predict(valid)))\n",
    "\n",
    "    print('Training Progress: model %d/%d ...' % (i + 1, n_models))\n",
    "\n",
    "print('Done.')"
   ]
  },
  {
   "cell_type": "markdown",
   "metadata": {},
   "source": [
    "#### Calculate LOCO for each model"
   ]
  },
  {
   "cell_type": "code",
   "execution_count": 16,
   "metadata": {
    "collapsed": false
   },
   "outputs": [
    {
     "name": "stdout",
     "output_type": "stream",
     "text": [
      "LOCO Progress: model 1/10 ...\n",
      "LOCO Progress: model 2/10 ...\n",
      "LOCO Progress: model 3/10 ...\n",
      "LOCO Progress: model 4/10 ...\n",
      "LOCO Progress: model 5/10 ...\n",
      "LOCO Progress: model 6/10 ...\n",
      "LOCO Progress: model 7/10 ...\n",
      "LOCO Progress: model 8/10 ...\n",
      "LOCO Progress: model 9/10 ...\n",
      "LOCO Progress: model 10/10 ...\n",
      "Done.\n"
     ]
    }
   ],
   "source": [
    "for k, model in enumerate(models):\n",
    "\n",
    "    for i in X_reals_decorr:\n",
    "\n",
    "        # train and predict with Xi set to missing\n",
    "        valid_loco = h2o.deep_copy(valid, 'valid_loco')\n",
    "        valid_loco[i] = np.nan\n",
    "        preds_loco = model.predict(valid_loco)\n",
    "\n",
    "        # create a new, named column for the LOCO prediction\n",
    "        preds_loco.columns = [i]\n",
    "        pred_frames[k] = pred_frames[k].cbind(preds_loco)\n",
    "\n",
    "        # subtract the LOCO prediction from \n",
    "        pred_frames[k][i] = pred_frames[k][i] - pred_frames[k]['predict']\n",
    "        \n",
    "    print('LOCO Progress: model %d/%d ...' % (k + 1, n_models))\n",
    "\n",
    "print('Done.')"
   ]
  },
  {
   "cell_type": "markdown",
   "metadata": {},
   "source": [
    "#### Collect LOCO values for each model for the median home"
   ]
  },
  {
   "cell_type": "code",
   "execution_count": 17,
   "metadata": {
    "collapsed": false
   },
   "outputs": [
    {
     "data": {
      "text/html": [
       "<div>\n",
       "<table border=\"1\" class=\"dataframe\">\n",
       "  <thead>\n",
       "    <tr style=\"text-align: right;\">\n",
       "      <th></th>\n",
       "      <th>Loco 1</th>\n",
       "      <th>Loco 2</th>\n",
       "      <th>Loco 3</th>\n",
       "      <th>Loco 4</th>\n",
       "      <th>Loco 5</th>\n",
       "      <th>Loco 6</th>\n",
       "      <th>Loco 7</th>\n",
       "      <th>Loco 8</th>\n",
       "      <th>Loco 9</th>\n",
       "      <th>Loco 10</th>\n",
       "      <th>Mean Local Importance</th>\n",
       "      <th>Std. Dev. Local Importance</th>\n",
       "    </tr>\n",
       "  </thead>\n",
       "  <tbody>\n",
       "    <tr>\n",
       "      <th>3SsnPorch</th>\n",
       "      <td>0.000000</td>\n",
       "      <td>0.000000</td>\n",
       "      <td>0.000000</td>\n",
       "      <td>0.000000</td>\n",
       "      <td>0.000000</td>\n",
       "      <td>0.000000</td>\n",
       "      <td>0.000000</td>\n",
       "      <td>0.000000</td>\n",
       "      <td>0.000000</td>\n",
       "      <td>0.000000</td>\n",
       "      <td>0.000000</td>\n",
       "      <td>0.000000</td>\n",
       "    </tr>\n",
       "    <tr>\n",
       "      <th>OverallQual</th>\n",
       "      <td>-25902.656358</td>\n",
       "      <td>-12586.120098</td>\n",
       "      <td>-1586.812189</td>\n",
       "      <td>-5233.729848</td>\n",
       "      <td>-6912.196857</td>\n",
       "      <td>-7382.186221</td>\n",
       "      <td>-4177.835429</td>\n",
       "      <td>-12555.981525</td>\n",
       "      <td>-9832.073563</td>\n",
       "      <td>-4748.577894</td>\n",
       "      <td>-9091.816998</td>\n",
       "      <td>6551.773390</td>\n",
       "    </tr>\n",
       "    <tr>\n",
       "      <th>LotArea</th>\n",
       "      <td>0.000000</td>\n",
       "      <td>-2514.486410</td>\n",
       "      <td>-514.684019</td>\n",
       "      <td>-1967.571344</td>\n",
       "      <td>5231.221739</td>\n",
       "      <td>-1427.859532</td>\n",
       "      <td>-943.073883</td>\n",
       "      <td>-3197.194382</td>\n",
       "      <td>1243.367054</td>\n",
       "      <td>401.574638</td>\n",
       "      <td>-368.870614</td>\n",
       "      <td>2265.421618</td>\n",
       "    </tr>\n",
       "    <tr>\n",
       "      <th>GrLivArea</th>\n",
       "      <td>-6993.711128</td>\n",
       "      <td>-2263.836868</td>\n",
       "      <td>728.916479</td>\n",
       "      <td>2745.446040</td>\n",
       "      <td>1673.813373</td>\n",
       "      <td>1146.277039</td>\n",
       "      <td>4312.300077</td>\n",
       "      <td>2574.028423</td>\n",
       "      <td>717.338364</td>\n",
       "      <td>4446.005854</td>\n",
       "      <td>908.657765</td>\n",
       "      <td>3216.641968</td>\n",
       "    </tr>\n",
       "    <tr>\n",
       "      <th>YearRemodAdd</th>\n",
       "      <td>9961.452483</td>\n",
       "      <td>8608.439231</td>\n",
       "      <td>10040.075338</td>\n",
       "      <td>4286.210344</td>\n",
       "      <td>12185.967944</td>\n",
       "      <td>7244.263408</td>\n",
       "      <td>10398.745515</td>\n",
       "      <td>8942.299486</td>\n",
       "      <td>8898.098740</td>\n",
       "      <td>5505.574188</td>\n",
       "      <td>8607.112668</td>\n",
       "      <td>2241.648779</td>\n",
       "    </tr>\n",
       "    <tr>\n",
       "      <th>EnclosedPorch</th>\n",
       "      <td>0.000000</td>\n",
       "      <td>0.000000</td>\n",
       "      <td>-144.800199</td>\n",
       "      <td>-584.635321</td>\n",
       "      <td>-351.325635</td>\n",
       "      <td>-1010.276512</td>\n",
       "      <td>0.000000</td>\n",
       "      <td>0.000000</td>\n",
       "      <td>0.000000</td>\n",
       "      <td>-114.494225</td>\n",
       "      <td>-220.553189</td>\n",
       "      <td>321.484949</td>\n",
       "    </tr>\n",
       "    <tr>\n",
       "      <th>BsmtFullBath</th>\n",
       "      <td>0.000000</td>\n",
       "      <td>0.000000</td>\n",
       "      <td>0.000000</td>\n",
       "      <td>0.000000</td>\n",
       "      <td>0.000000</td>\n",
       "      <td>0.000000</td>\n",
       "      <td>0.000000</td>\n",
       "      <td>0.000000</td>\n",
       "      <td>0.000000</td>\n",
       "      <td>0.000000</td>\n",
       "      <td>0.000000</td>\n",
       "      <td>0.000000</td>\n",
       "    </tr>\n",
       "    <tr>\n",
       "      <th>LotFrontage</th>\n",
       "      <td>3485.384657</td>\n",
       "      <td>899.878754</td>\n",
       "      <td>9628.250378</td>\n",
       "      <td>9028.901912</td>\n",
       "      <td>8858.118516</td>\n",
       "      <td>8325.583351</td>\n",
       "      <td>6832.822548</td>\n",
       "      <td>8145.919708</td>\n",
       "      <td>8887.746653</td>\n",
       "      <td>12195.233658</td>\n",
       "      <td>7628.784013</td>\n",
       "      <td>3061.688194</td>\n",
       "    </tr>\n",
       "    <tr>\n",
       "      <th>KitchenAbvGr</th>\n",
       "      <td>0.000000</td>\n",
       "      <td>0.000000</td>\n",
       "      <td>0.000000</td>\n",
       "      <td>0.000000</td>\n",
       "      <td>0.000000</td>\n",
       "      <td>0.000000</td>\n",
       "      <td>0.000000</td>\n",
       "      <td>0.000000</td>\n",
       "      <td>0.000000</td>\n",
       "      <td>0.000000</td>\n",
       "      <td>0.000000</td>\n",
       "      <td>0.000000</td>\n",
       "    </tr>\n",
       "    <tr>\n",
       "      <th>MoSold</th>\n",
       "      <td>0.000000</td>\n",
       "      <td>0.000000</td>\n",
       "      <td>884.910272</td>\n",
       "      <td>592.356027</td>\n",
       "      <td>39.208458</td>\n",
       "      <td>-148.920757</td>\n",
       "      <td>534.206668</td>\n",
       "      <td>0.000000</td>\n",
       "      <td>-239.890636</td>\n",
       "      <td>0.000000</td>\n",
       "      <td>166.187003</td>\n",
       "      <td>349.915651</td>\n",
       "    </tr>\n",
       "    <tr>\n",
       "      <th>OpenPorchSF</th>\n",
       "      <td>0.000000</td>\n",
       "      <td>0.000000</td>\n",
       "      <td>3282.635996</td>\n",
       "      <td>950.882676</td>\n",
       "      <td>429.941359</td>\n",
       "      <td>-483.837124</td>\n",
       "      <td>1984.933960</td>\n",
       "      <td>-11.904671</td>\n",
       "      <td>2488.319675</td>\n",
       "      <td>198.565720</td>\n",
       "      <td>883.953759</td>\n",
       "      <td>1202.345628</td>\n",
       "    </tr>\n",
       "    <tr>\n",
       "      <th>BsmtUnfSF</th>\n",
       "      <td>559.967319</td>\n",
       "      <td>2050.966397</td>\n",
       "      <td>1402.525445</td>\n",
       "      <td>699.239919</td>\n",
       "      <td>1868.877459</td>\n",
       "      <td>2114.409549</td>\n",
       "      <td>1183.530197</td>\n",
       "      <td>1747.877037</td>\n",
       "      <td>529.481342</td>\n",
       "      <td>1816.145439</td>\n",
       "      <td>1397.302010</td>\n",
       "      <td>587.324006</td>\n",
       "    </tr>\n",
       "    <tr>\n",
       "      <th>FullBath</th>\n",
       "      <td>0.000000</td>\n",
       "      <td>0.000000</td>\n",
       "      <td>0.000000</td>\n",
       "      <td>219.283754</td>\n",
       "      <td>157.078804</td>\n",
       "      <td>654.310578</td>\n",
       "      <td>-353.460182</td>\n",
       "      <td>0.000000</td>\n",
       "      <td>0.000000</td>\n",
       "      <td>0.000000</td>\n",
       "      <td>67.721295</td>\n",
       "      <td>240.822302</td>\n",
       "    </tr>\n",
       "    <tr>\n",
       "      <th>MSSubClass</th>\n",
       "      <td>0.000000</td>\n",
       "      <td>692.621517</td>\n",
       "      <td>1222.759655</td>\n",
       "      <td>290.096792</td>\n",
       "      <td>-814.906396</td>\n",
       "      <td>-343.040023</td>\n",
       "      <td>-457.491247</td>\n",
       "      <td>-1949.758743</td>\n",
       "      <td>-825.135557</td>\n",
       "      <td>-2723.313740</td>\n",
       "      <td>-490.816774</td>\n",
       "      <td>1119.817107</td>\n",
       "    </tr>\n",
       "    <tr>\n",
       "      <th>YearBuilt</th>\n",
       "      <td>2067.756329</td>\n",
       "      <td>2009.479563</td>\n",
       "      <td>10455.135559</td>\n",
       "      <td>13046.567552</td>\n",
       "      <td>12306.602849</td>\n",
       "      <td>11897.846209</td>\n",
       "      <td>13829.324644</td>\n",
       "      <td>12259.338017</td>\n",
       "      <td>12523.447020</td>\n",
       "      <td>19176.538000</td>\n",
       "      <td>10957.203574</td>\n",
       "      <td>4963.491200</td>\n",
       "    </tr>\n",
       "    <tr>\n",
       "      <th>PoolArea</th>\n",
       "      <td>0.000000</td>\n",
       "      <td>0.000000</td>\n",
       "      <td>0.000000</td>\n",
       "      <td>0.000000</td>\n",
       "      <td>0.000000</td>\n",
       "      <td>0.000000</td>\n",
       "      <td>0.000000</td>\n",
       "      <td>0.000000</td>\n",
       "      <td>0.000000</td>\n",
       "      <td>0.000000</td>\n",
       "      <td>0.000000</td>\n",
       "      <td>0.000000</td>\n",
       "    </tr>\n",
       "    <tr>\n",
       "      <th>LowQualFinSF</th>\n",
       "      <td>0.000000</td>\n",
       "      <td>0.000000</td>\n",
       "      <td>0.000000</td>\n",
       "      <td>0.000000</td>\n",
       "      <td>0.000000</td>\n",
       "      <td>0.000000</td>\n",
       "      <td>0.000000</td>\n",
       "      <td>0.000000</td>\n",
       "      <td>0.000000</td>\n",
       "      <td>0.000000</td>\n",
       "      <td>0.000000</td>\n",
       "      <td>0.000000</td>\n",
       "    </tr>\n",
       "    <tr>\n",
       "      <th>2ndFlrSF</th>\n",
       "      <td>-561.471680</td>\n",
       "      <td>-51.274579</td>\n",
       "      <td>-5329.025544</td>\n",
       "      <td>-3686.438917</td>\n",
       "      <td>-2378.194832</td>\n",
       "      <td>-6591.256851</td>\n",
       "      <td>-862.060215</td>\n",
       "      <td>-2750.937902</td>\n",
       "      <td>-100.091146</td>\n",
       "      <td>-707.064499</td>\n",
       "      <td>-2301.781617</td>\n",
       "      <td>2173.602579</td>\n",
       "    </tr>\n",
       "    <tr>\n",
       "      <th>HalfBath</th>\n",
       "      <td>0.000000</td>\n",
       "      <td>0.000000</td>\n",
       "      <td>1614.093204</td>\n",
       "      <td>0.000000</td>\n",
       "      <td>623.977104</td>\n",
       "      <td>1307.107471</td>\n",
       "      <td>1932.258720</td>\n",
       "      <td>1185.518559</td>\n",
       "      <td>927.250217</td>\n",
       "      <td>2273.902466</td>\n",
       "      <td>986.410774</td>\n",
       "      <td>783.748397</td>\n",
       "    </tr>\n",
       "    <tr>\n",
       "      <th>OverallCond</th>\n",
       "      <td>0.000000</td>\n",
       "      <td>-2204.932174</td>\n",
       "      <td>-1146.750691</td>\n",
       "      <td>-616.365982</td>\n",
       "      <td>-1199.868506</td>\n",
       "      <td>-370.440980</td>\n",
       "      <td>-401.096933</td>\n",
       "      <td>-1058.359589</td>\n",
       "      <td>359.934568</td>\n",
       "      <td>-164.988602</td>\n",
       "      <td>-680.286889</td>\n",
       "      <td>703.097177</td>\n",
       "    </tr>\n",
       "    <tr>\n",
       "      <th>WoodDeckSF</th>\n",
       "      <td>0.000000</td>\n",
       "      <td>0.000000</td>\n",
       "      <td>0.000000</td>\n",
       "      <td>141.423003</td>\n",
       "      <td>243.259843</td>\n",
       "      <td>0.000000</td>\n",
       "      <td>0.000000</td>\n",
       "      <td>-387.516037</td>\n",
       "      <td>0.000000</td>\n",
       "      <td>0.000000</td>\n",
       "      <td>-0.283319</td>\n",
       "      <td>151.440976</td>\n",
       "    </tr>\n",
       "    <tr>\n",
       "      <th>MasVnrArea</th>\n",
       "      <td>0.000000</td>\n",
       "      <td>0.000000</td>\n",
       "      <td>-2529.170885</td>\n",
       "      <td>-2275.934183</td>\n",
       "      <td>-540.234759</td>\n",
       "      <td>-1307.002335</td>\n",
       "      <td>0.000000</td>\n",
       "      <td>0.000000</td>\n",
       "      <td>0.000000</td>\n",
       "      <td>0.000000</td>\n",
       "      <td>-665.234216</td>\n",
       "      <td>956.625572</td>\n",
       "    </tr>\n",
       "    <tr>\n",
       "      <th>1stFlrSF</th>\n",
       "      <td>892.118601</td>\n",
       "      <td>5955.349457</td>\n",
       "      <td>10301.971558</td>\n",
       "      <td>8349.621276</td>\n",
       "      <td>7820.624064</td>\n",
       "      <td>6660.444194</td>\n",
       "      <td>7876.925232</td>\n",
       "      <td>10122.734949</td>\n",
       "      <td>5565.653847</td>\n",
       "      <td>4494.160980</td>\n",
       "      <td>6803.960416</td>\n",
       "      <td>2652.988127</td>\n",
       "    </tr>\n",
       "    <tr>\n",
       "      <th>MiscVal</th>\n",
       "      <td>0.000000</td>\n",
       "      <td>0.000000</td>\n",
       "      <td>0.000000</td>\n",
       "      <td>0.000000</td>\n",
       "      <td>0.000000</td>\n",
       "      <td>0.000000</td>\n",
       "      <td>0.000000</td>\n",
       "      <td>0.000000</td>\n",
       "      <td>0.000000</td>\n",
       "      <td>0.000000</td>\n",
       "      <td>0.000000</td>\n",
       "      <td>0.000000</td>\n",
       "    </tr>\n",
       "    <tr>\n",
       "      <th>Fireplaces</th>\n",
       "      <td>7868.768803</td>\n",
       "      <td>7221.335703</td>\n",
       "      <td>6046.887442</td>\n",
       "      <td>2513.838108</td>\n",
       "      <td>2900.167619</td>\n",
       "      <td>2636.979304</td>\n",
       "      <td>2043.248666</td>\n",
       "      <td>2767.019421</td>\n",
       "      <td>2893.183656</td>\n",
       "      <td>3215.725021</td>\n",
       "      <td>4010.715374</td>\n",
       "      <td>2049.350048</td>\n",
       "    </tr>\n",
       "    <tr>\n",
       "      <th>BsmtHalfBath</th>\n",
       "      <td>0.000000</td>\n",
       "      <td>0.000000</td>\n",
       "      <td>0.000000</td>\n",
       "      <td>0.000000</td>\n",
       "      <td>0.000000</td>\n",
       "      <td>0.000000</td>\n",
       "      <td>0.000000</td>\n",
       "      <td>0.000000</td>\n",
       "      <td>0.000000</td>\n",
       "      <td>0.000000</td>\n",
       "      <td>0.000000</td>\n",
       "      <td>0.000000</td>\n",
       "    </tr>\n",
       "    <tr>\n",
       "      <th>YrSold</th>\n",
       "      <td>0.000000</td>\n",
       "      <td>0.000000</td>\n",
       "      <td>487.780405</td>\n",
       "      <td>1458.465781</td>\n",
       "      <td>2066.172533</td>\n",
       "      <td>762.723881</td>\n",
       "      <td>-857.326621</td>\n",
       "      <td>248.024384</td>\n",
       "      <td>2037.860685</td>\n",
       "      <td>3091.438009</td>\n",
       "      <td>929.513906</td>\n",
       "      <td>1143.778736</td>\n",
       "    </tr>\n",
       "    <tr>\n",
       "      <th>BsmtFinSF1</th>\n",
       "      <td>9561.797509</td>\n",
       "      <td>5708.994118</td>\n",
       "      <td>4510.255510</td>\n",
       "      <td>3970.184607</td>\n",
       "      <td>4948.288207</td>\n",
       "      <td>3581.430552</td>\n",
       "      <td>6924.475325</td>\n",
       "      <td>6307.370377</td>\n",
       "      <td>3474.120088</td>\n",
       "      <td>8839.617547</td>\n",
       "      <td>5782.653384</td>\n",
       "      <td>2024.509416</td>\n",
       "    </tr>\n",
       "    <tr>\n",
       "      <th>BsmtFinSF2</th>\n",
       "      <td>0.000000</td>\n",
       "      <td>0.000000</td>\n",
       "      <td>0.000000</td>\n",
       "      <td>0.000000</td>\n",
       "      <td>0.000000</td>\n",
       "      <td>0.000000</td>\n",
       "      <td>0.000000</td>\n",
       "      <td>0.000000</td>\n",
       "      <td>0.000000</td>\n",
       "      <td>0.000000</td>\n",
       "      <td>0.000000</td>\n",
       "      <td>0.000000</td>\n",
       "    </tr>\n",
       "    <tr>\n",
       "      <th>ScreenPorch</th>\n",
       "      <td>0.000000</td>\n",
       "      <td>0.000000</td>\n",
       "      <td>0.000000</td>\n",
       "      <td>0.000000</td>\n",
       "      <td>0.000000</td>\n",
       "      <td>0.000000</td>\n",
       "      <td>0.000000</td>\n",
       "      <td>0.000000</td>\n",
       "      <td>0.000000</td>\n",
       "      <td>0.000000</td>\n",
       "      <td>0.000000</td>\n",
       "      <td>0.000000</td>\n",
       "    </tr>\n",
       "    <tr>\n",
       "      <th>BedroomAbvGr</th>\n",
       "      <td>0.000000</td>\n",
       "      <td>0.000000</td>\n",
       "      <td>0.000000</td>\n",
       "      <td>0.000000</td>\n",
       "      <td>0.000000</td>\n",
       "      <td>0.000000</td>\n",
       "      <td>0.000000</td>\n",
       "      <td>0.000000</td>\n",
       "      <td>0.000000</td>\n",
       "      <td>0.000000</td>\n",
       "      <td>0.000000</td>\n",
       "      <td>0.000000</td>\n",
       "    </tr>\n",
       "    <tr>\n",
       "      <th>GarageArea</th>\n",
       "      <td>518.436752</td>\n",
       "      <td>3042.139320</td>\n",
       "      <td>3113.275888</td>\n",
       "      <td>-46.484565</td>\n",
       "      <td>594.070947</td>\n",
       "      <td>513.173309</td>\n",
       "      <td>1279.498692</td>\n",
       "      <td>1358.793016</td>\n",
       "      <td>240.403786</td>\n",
       "      <td>312.270676</td>\n",
       "      <td>1092.557782</td>\n",
       "      <td>1074.067980</td>\n",
       "    </tr>\n",
       "  </tbody>\n",
       "</table>\n",
       "</div>"
      ],
      "text/plain": [
       "                     Loco 1        Loco 2        Loco 3        Loco 4  \\\n",
       "3SsnPorch          0.000000      0.000000      0.000000      0.000000   \n",
       "OverallQual   -25902.656358 -12586.120098  -1586.812189  -5233.729848   \n",
       "LotArea            0.000000  -2514.486410   -514.684019  -1967.571344   \n",
       "GrLivArea      -6993.711128  -2263.836868    728.916479   2745.446040   \n",
       "YearRemodAdd    9961.452483   8608.439231  10040.075338   4286.210344   \n",
       "EnclosedPorch      0.000000      0.000000   -144.800199   -584.635321   \n",
       "BsmtFullBath       0.000000      0.000000      0.000000      0.000000   \n",
       "LotFrontage     3485.384657    899.878754   9628.250378   9028.901912   \n",
       "KitchenAbvGr       0.000000      0.000000      0.000000      0.000000   \n",
       "MoSold             0.000000      0.000000    884.910272    592.356027   \n",
       "OpenPorchSF        0.000000      0.000000   3282.635996    950.882676   \n",
       "BsmtUnfSF        559.967319   2050.966397   1402.525445    699.239919   \n",
       "FullBath           0.000000      0.000000      0.000000    219.283754   \n",
       "MSSubClass         0.000000    692.621517   1222.759655    290.096792   \n",
       "YearBuilt       2067.756329   2009.479563  10455.135559  13046.567552   \n",
       "PoolArea           0.000000      0.000000      0.000000      0.000000   \n",
       "LowQualFinSF       0.000000      0.000000      0.000000      0.000000   \n",
       "2ndFlrSF        -561.471680    -51.274579  -5329.025544  -3686.438917   \n",
       "HalfBath           0.000000      0.000000   1614.093204      0.000000   \n",
       "OverallCond        0.000000  -2204.932174  -1146.750691   -616.365982   \n",
       "WoodDeckSF         0.000000      0.000000      0.000000    141.423003   \n",
       "MasVnrArea         0.000000      0.000000  -2529.170885  -2275.934183   \n",
       "1stFlrSF         892.118601   5955.349457  10301.971558   8349.621276   \n",
       "MiscVal            0.000000      0.000000      0.000000      0.000000   \n",
       "Fireplaces      7868.768803   7221.335703   6046.887442   2513.838108   \n",
       "BsmtHalfBath       0.000000      0.000000      0.000000      0.000000   \n",
       "YrSold             0.000000      0.000000    487.780405   1458.465781   \n",
       "BsmtFinSF1      9561.797509   5708.994118   4510.255510   3970.184607   \n",
       "BsmtFinSF2         0.000000      0.000000      0.000000      0.000000   \n",
       "ScreenPorch        0.000000      0.000000      0.000000      0.000000   \n",
       "BedroomAbvGr       0.000000      0.000000      0.000000      0.000000   \n",
       "GarageArea       518.436752   3042.139320   3113.275888    -46.484565   \n",
       "\n",
       "                     Loco 5        Loco 6        Loco 7        Loco 8  \\\n",
       "3SsnPorch          0.000000      0.000000      0.000000      0.000000   \n",
       "OverallQual    -6912.196857  -7382.186221  -4177.835429 -12555.981525   \n",
       "LotArea         5231.221739  -1427.859532   -943.073883  -3197.194382   \n",
       "GrLivArea       1673.813373   1146.277039   4312.300077   2574.028423   \n",
       "YearRemodAdd   12185.967944   7244.263408  10398.745515   8942.299486   \n",
       "EnclosedPorch   -351.325635  -1010.276512      0.000000      0.000000   \n",
       "BsmtFullBath       0.000000      0.000000      0.000000      0.000000   \n",
       "LotFrontage     8858.118516   8325.583351   6832.822548   8145.919708   \n",
       "KitchenAbvGr       0.000000      0.000000      0.000000      0.000000   \n",
       "MoSold            39.208458   -148.920757    534.206668      0.000000   \n",
       "OpenPorchSF      429.941359   -483.837124   1984.933960    -11.904671   \n",
       "BsmtUnfSF       1868.877459   2114.409549   1183.530197   1747.877037   \n",
       "FullBath         157.078804    654.310578   -353.460182      0.000000   \n",
       "MSSubClass      -814.906396   -343.040023   -457.491247  -1949.758743   \n",
       "YearBuilt      12306.602849  11897.846209  13829.324644  12259.338017   \n",
       "PoolArea           0.000000      0.000000      0.000000      0.000000   \n",
       "LowQualFinSF       0.000000      0.000000      0.000000      0.000000   \n",
       "2ndFlrSF       -2378.194832  -6591.256851   -862.060215  -2750.937902   \n",
       "HalfBath         623.977104   1307.107471   1932.258720   1185.518559   \n",
       "OverallCond    -1199.868506   -370.440980   -401.096933  -1058.359589   \n",
       "WoodDeckSF       243.259843      0.000000      0.000000   -387.516037   \n",
       "MasVnrArea      -540.234759  -1307.002335      0.000000      0.000000   \n",
       "1stFlrSF        7820.624064   6660.444194   7876.925232  10122.734949   \n",
       "MiscVal            0.000000      0.000000      0.000000      0.000000   \n",
       "Fireplaces      2900.167619   2636.979304   2043.248666   2767.019421   \n",
       "BsmtHalfBath       0.000000      0.000000      0.000000      0.000000   \n",
       "YrSold          2066.172533    762.723881   -857.326621    248.024384   \n",
       "BsmtFinSF1      4948.288207   3581.430552   6924.475325   6307.370377   \n",
       "BsmtFinSF2         0.000000      0.000000      0.000000      0.000000   \n",
       "ScreenPorch        0.000000      0.000000      0.000000      0.000000   \n",
       "BedroomAbvGr       0.000000      0.000000      0.000000      0.000000   \n",
       "GarageArea       594.070947    513.173309   1279.498692   1358.793016   \n",
       "\n",
       "                     Loco 9       Loco 10  Mean Local Importance  \\\n",
       "3SsnPorch          0.000000      0.000000               0.000000   \n",
       "OverallQual    -9832.073563  -4748.577894           -9091.816998   \n",
       "LotArea         1243.367054    401.574638            -368.870614   \n",
       "GrLivArea        717.338364   4446.005854             908.657765   \n",
       "YearRemodAdd    8898.098740   5505.574188            8607.112668   \n",
       "EnclosedPorch      0.000000   -114.494225            -220.553189   \n",
       "BsmtFullBath       0.000000      0.000000               0.000000   \n",
       "LotFrontage     8887.746653  12195.233658            7628.784013   \n",
       "KitchenAbvGr       0.000000      0.000000               0.000000   \n",
       "MoSold          -239.890636      0.000000             166.187003   \n",
       "OpenPorchSF     2488.319675    198.565720             883.953759   \n",
       "BsmtUnfSF        529.481342   1816.145439            1397.302010   \n",
       "FullBath           0.000000      0.000000              67.721295   \n",
       "MSSubClass      -825.135557  -2723.313740            -490.816774   \n",
       "YearBuilt      12523.447020  19176.538000           10957.203574   \n",
       "PoolArea           0.000000      0.000000               0.000000   \n",
       "LowQualFinSF       0.000000      0.000000               0.000000   \n",
       "2ndFlrSF        -100.091146   -707.064499           -2301.781617   \n",
       "HalfBath         927.250217   2273.902466             986.410774   \n",
       "OverallCond      359.934568   -164.988602            -680.286889   \n",
       "WoodDeckSF         0.000000      0.000000              -0.283319   \n",
       "MasVnrArea         0.000000      0.000000            -665.234216   \n",
       "1stFlrSF        5565.653847   4494.160980            6803.960416   \n",
       "MiscVal            0.000000      0.000000               0.000000   \n",
       "Fireplaces      2893.183656   3215.725021            4010.715374   \n",
       "BsmtHalfBath       0.000000      0.000000               0.000000   \n",
       "YrSold          2037.860685   3091.438009             929.513906   \n",
       "BsmtFinSF1      3474.120088   8839.617547            5782.653384   \n",
       "BsmtFinSF2         0.000000      0.000000               0.000000   \n",
       "ScreenPorch        0.000000      0.000000               0.000000   \n",
       "BedroomAbvGr       0.000000      0.000000               0.000000   \n",
       "GarageArea       240.403786    312.270676            1092.557782   \n",
       "\n",
       "               Std. Dev. Local Importance  \n",
       "3SsnPorch                        0.000000  \n",
       "OverallQual                   6551.773390  \n",
       "LotArea                       2265.421618  \n",
       "GrLivArea                     3216.641968  \n",
       "YearRemodAdd                  2241.648779  \n",
       "EnclosedPorch                  321.484949  \n",
       "BsmtFullBath                     0.000000  \n",
       "LotFrontage                   3061.688194  \n",
       "KitchenAbvGr                     0.000000  \n",
       "MoSold                         349.915651  \n",
       "OpenPorchSF                   1202.345628  \n",
       "BsmtUnfSF                      587.324006  \n",
       "FullBath                       240.822302  \n",
       "MSSubClass                    1119.817107  \n",
       "YearBuilt                     4963.491200  \n",
       "PoolArea                         0.000000  \n",
       "LowQualFinSF                     0.000000  \n",
       "2ndFlrSF                      2173.602579  \n",
       "HalfBath                       783.748397  \n",
       "OverallCond                    703.097177  \n",
       "WoodDeckSF                     151.440976  \n",
       "MasVnrArea                     956.625572  \n",
       "1stFlrSF                      2652.988127  \n",
       "MiscVal                          0.000000  \n",
       "Fireplaces                    2049.350048  \n",
       "BsmtHalfBath                     0.000000  \n",
       "YrSold                        1143.778736  \n",
       "BsmtFinSF1                    2024.509416  \n",
       "BsmtFinSF2                       0.000000  \n",
       "ScreenPorch                      0.000000  \n",
       "BedroomAbvGr                     0.000000  \n",
       "GarageArea                    1074.067980  "
      ]
     },
     "execution_count": 17,
     "metadata": {},
     "output_type": "execute_result"
    }
   ],
   "source": [
    "median_loco_frames = []\n",
    "col_names = ['Loco ' + str(i) for i in range(1, n_models + 1)]\n",
    "\n",
    "for i in range(0, n_models):\n",
    "    \n",
    "    # collect LOCO as a column vector in a Pandas df\n",
    "    preds = pred_frames[i]\n",
    "    median_loco_frames.append(preds[preds['Id'] == int(quantile_dict[50]), :]\\\n",
    "                              .as_data_frame()\\\n",
    "                              .drop(['Id', 'predict'], axis=1)\n",
    "                              .T)\n",
    "    \n",
    "loco_ensemble = pd.concat(median_loco_frames, axis=1) \n",
    "loco_ensemble.columns = col_names\n",
    "loco_ensemble['Mean Local Importance'] = loco_ensemble.mean(axis=1)\n",
    "loco_ensemble['Std. Dev. Local Importance'] = loco_ensemble.std(axis=1)\n",
    "loco_ensemble"
   ]
  },
  {
   "cell_type": "markdown",
   "metadata": {},
   "source": [
    "#### Negative mean reason codes"
   ]
  },
  {
   "cell_type": "code",
   "execution_count": 18,
   "metadata": {
    "collapsed": false
   },
   "outputs": [
    {
     "data": {
      "image/png": "[encoded data removed]",
      "text/plain": [
       "<matplotlib.figure.Figure at 0x119980550>"
      ]
     },
     "metadata": {},
     "output_type": "display_data"
    }
   ],
   "source": [
    "median_mean_loco = loco_ensemble['Mean Local Importance'].sort_values()[:5]\n",
    "_ = median_mean_loco.plot(kind='bar', \n",
    "                          title='Negative Mean Reason Codes for the Median of Predicted Sale Price\\n', \n",
    "                          legend=False)"
   ]
  },
  {
   "cell_type": "markdown",
   "metadata": {},
   "source": [
    "#### Positive mean reason codes"
   ]
  },
  {
   "cell_type": "code",
   "execution_count": 19,
   "metadata": {
    "collapsed": false
   },
   "outputs": [
    {
     "data": {
      "image/png": "[encoded data removed]",
      "text/plain": [
       "<matplotlib.figure.Figure at 0x11a65a790>"
      ]
     },
     "metadata": {},
     "output_type": "display_data"
    }
   ],
   "source": [
    "median_mean_loco = loco_ensemble['Mean Local Importance'].sort_values(ascending=False)[:5]\n",
    "_ = median_mean_loco.plot(kind='bar', \n",
    "                          title='Positive Mean Reason Codes for the Median of Predicted Sale Price\\n', \n",
    "                          color='r',\n",
    "                          legend=False)"
   ]
  },
  {
   "cell_type": "markdown",
   "metadata": {},
   "source": [
    "#### Shutdown H2O"
   ]
  },
  {
   "cell_type": "code",
   "execution_count": 20,
   "metadata": {
    "collapsed": false
   },
   "outputs": [
    {
     "name": "stdout",
     "output_type": "stream",
     "text": [
      "Are you sure you want to shutdown the H2O instance running at http://127.0.0.1:54321 (Y/N)? y\n",
      "H2O session _sid_af59 closed.\n"
     ]
    }
   ],
   "source": [
    "h2o.cluster().shutdown(prompt=True)"
   ]
  }
 ],
 "metadata": {
  "anaconda-cloud": {},
  "kernelspec": {
   "display_name": "Python 2",
   "language": "python",
   "name": "python2"
  },
  "language_info": {
   "codemirror_mode": {
    "name": "ipython",
    "version": 2
   },
   "file_extension": ".py",
   "mimetype": "text/x-python",
   "name": "python",
   "nbconvert_exporter": "python",
   "pygments_lexer": "ipython2",
   "version": "2.7.11"
  }
 },
 "nbformat": 4,
 "nbformat_minor": 2
}
