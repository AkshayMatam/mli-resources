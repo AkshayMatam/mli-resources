{
 "cells": [
  {
   "cell_type": "markdown",
   "metadata": {},
   "source": [
    "# License \n",
    "***\n",
    "Copyright 2017 J. Patrick Hall, phall@h2o.ai & Navdeep Gill, navdeep@h2o.ai\n",
    "\n",
    "Permission is hereby granted, free of charge, to any person obtaining a copy of this software and associated documentation files (the \"Software\"), to deal in the Software without restriction, including without limitation the rights to use, copy, modify, merge, publish, distribute, sublicense, and/or sell copies of the Software, and to permit persons to whom the Software is furnished to do so, subject to the following conditions:\n",
    "\n",
    "The above copyright notice and this permission notice shall be included in all copies or substantial portions of the Software.\n",
    "\n",
    "THE SOFTWARE IS PROVIDED \"AS IS\", WITHOUT WARRANTY OF ANY KIND, EXPRESS OR IMPLIED, INCLUDING BUT NOT LIMITED TO THE WARRANTIES OF MERCHANTABILITY, FITNESS FOR A PARTICULAR PURPOSE AND NONINFRINGEMENT. IN NO EVENT SHALL THE AUTHORS OR COPYRIGHT HOLDERS BE LIABLE FOR ANY CLAIM, DAMAGES OR OTHER LIABILITY, WHETHER IN AN ACTION OF CONTRACT, TORT OR OTHERWISE, ARISING FROM, OUT OF OR IN CONNECTION WITH THE SOFTWARE OR THE USE OR OTHER DEALINGS IN THE SOFTWARE."
   ]
  },
  {
   "cell_type": "markdown",
   "metadata": {},
   "source": [
    "# Decision Tree Surrogates (Global Surrogates)\n",
    "***\n",
    "Based on: Craven, Mark W. and Shavlik, Jude W. Extracting tree structured representations of trained networks. Advances in Neural Information Processing Systems, pp. 24–30, 1996.\n",
    "\n",
    "https://papers.nips.cc/paper/1152-extracting-tree-structured-representations-of-trained-networks.pdf\n",
    "\n",
    "** Requires GraphViz **\n",
    "\n",
    "GraphViz: http://www.graphviz.org/\n",
    "\n",
    "For MacOS: \n",
    "* Install Brew: https://brew.sh/ \n",
    "* `brew install graphviz`"
   ]
  },
  {
   "cell_type": "markdown",
   "metadata": {},
   "source": [
    "## Preliminaries: imports, start H2O, load data"
   ]
  },
  {
   "cell_type": "code",
   "execution_count": 1,
   "metadata": {},
   "outputs": [],
   "source": [
    "# imports\n",
    "\n",
    "# import h2o module and certain needed classes\n",
    "import h2o\n",
    "from h2o.estimators.gbm import H2OGradientBoostingEstimator\n",
    "from h2o.estimators.deeplearning import H2ODeepLearningEstimator\n",
    "from h2o.backend import H2OLocalServer\n",
    "\n",
    "# for in-notebook display \n",
    "from IPython.display import Image\n",
    "from IPython.display import display\n",
    "\n",
    "# for calling external processes\n",
    "import os\n",
    "import re\n",
    "import subprocess\n",
    "from subprocess import CalledProcessError\n",
    "import time"
   ]
  },
  {
   "cell_type": "code",
   "execution_count": 2,
   "metadata": {},
   "outputs": [
    {
     "name": "stdout",
     "output_type": "stream",
     "text": [
      "Checking whether there is an H2O instance running at http://localhost:54321. connected.\n"
     ]
    },
    {
     "data": {
      "text/html": [
       "<div style=\"overflow:auto\"><table style=\"width:50%\"><tr><td>H2O cluster uptime:</td>\n",
       "<td>13 mins 26 secs</td></tr>\n",
       "<tr><td>H2O cluster timezone:</td>\n",
       "<td>America/New_York</td></tr>\n",
       "<tr><td>H2O data parsing timezone:</td>\n",
       "<td>UTC</td></tr>\n",
       "<tr><td>H2O cluster version:</td>\n",
       "<td>3.18.0.2</td></tr>\n",
       "<tr><td>H2O cluster version age:</td>\n",
       "<td>1 month and 14 days </td></tr>\n",
       "<tr><td>H2O cluster name:</td>\n",
       "<td>H2O_from_python_lingyao_n69a80</td></tr>\n",
       "<tr><td>H2O cluster total nodes:</td>\n",
       "<td>1</td></tr>\n",
       "<tr><td>H2O cluster free memory:</td>\n",
       "<td>10.31 Gb</td></tr>\n",
       "<tr><td>H2O cluster total cores:</td>\n",
       "<td>8</td></tr>\n",
       "<tr><td>H2O cluster allowed cores:</td>\n",
       "<td>8</td></tr>\n",
       "<tr><td>H2O cluster status:</td>\n",
       "<td>locked, healthy</td></tr>\n",
       "<tr><td>H2O connection url:</td>\n",
       "<td>http://localhost:54321</td></tr>\n",
       "<tr><td>H2O connection proxy:</td>\n",
       "<td>None</td></tr>\n",
       "<tr><td>H2O internal security:</td>\n",
       "<td>False</td></tr>\n",
       "<tr><td>H2O API Extensions:</td>\n",
       "<td>XGBoost, Algos, AutoML, Core V3, Core V4</td></tr>\n",
       "<tr><td>Python version:</td>\n",
       "<td>3.6.4 final</td></tr></table></div>"
      ],
      "text/plain": [
       "--------------------------  ----------------------------------------\n",
       "H2O cluster uptime:         13 mins 26 secs\n",
       "H2O cluster timezone:       America/New_York\n",
       "H2O data parsing timezone:  UTC\n",
       "H2O cluster version:        3.18.0.2\n",
       "H2O cluster version age:    1 month and 14 days\n",
       "H2O cluster name:           H2O_from_python_lingyao_n69a80\n",
       "H2O cluster total nodes:    1\n",
       "H2O cluster free memory:    10.31 Gb\n",
       "H2O cluster total cores:    8\n",
       "H2O cluster allowed cores:  8\n",
       "H2O cluster status:         locked, healthy\n",
       "H2O connection url:         http://localhost:54321\n",
       "H2O connection proxy:\n",
       "H2O internal security:      False\n",
       "H2O API Extensions:         XGBoost, Algos, AutoML, Core V3, Core V4\n",
       "Python version:             3.6.4 final\n",
       "--------------------------  ----------------------------------------"
      ]
     },
     "metadata": {},
     "output_type": "display_data"
    }
   ],
   "source": [
    "# start and connect to h2o server\n",
    "h2o.init(max_mem_size='12G')"
   ]
  },
  {
   "cell_type": "code",
   "execution_count": 3,
   "metadata": {},
   "outputs": [
    {
     "name": "stdout",
     "output_type": "stream",
     "text": [
      "Parse progress: |█████████████████████████████████████████████████████████| 100%\n"
     ]
    }
   ],
   "source": [
    "# load clean data\n",
    "path = '../data/train.csv'\n",
    "frame = h2o.import_file(path=path)"
   ]
  },
  {
   "cell_type": "markdown",
   "metadata": {},
   "source": [
    "## Clean and prepare data for modeling"
   ]
  },
  {
   "cell_type": "code",
   "execution_count": 4,
   "metadata": {},
   "outputs": [],
   "source": [
    "# assign target and inputs\n",
    "y = 'SalePrice'\n",
    "X = [name for name in frame.columns if name not in [y, 'Id']]"
   ]
  },
  {
   "cell_type": "code",
   "execution_count": 5,
   "metadata": {},
   "outputs": [],
   "source": [
    "# determine column types\n",
    "# impute\n",
    "reals, enums = [], []\n",
    "for key, val in frame.types.items():\n",
    "    if key in X:\n",
    "        if val == 'enum':\n",
    "            enums.append(key)\n",
    "        else: \n",
    "            reals.append(key)\n",
    "            \n",
    "_ = frame[reals].impute(method='median')\n",
    "_ = frame[enums].impute(method='mode')"
   ]
  },
  {
   "cell_type": "code",
   "execution_count": 6,
   "metadata": {},
   "outputs": [],
   "source": [
    "# split into training, validation, and 30% test\n",
    "train, valid = frame.split_frame([0.7])"
   ]
  },
  {
   "cell_type": "markdown",
   "metadata": {},
   "source": [
    "## Train a \"black box\" model "
   ]
  },
  {
   "cell_type": "code",
   "execution_count": 7,
   "metadata": {},
   "outputs": [
    {
     "name": "stdout",
     "output_type": "stream",
     "text": [
      "deeplearning Model Build progress: |██████████████████████████████████████| 100%\n"
     ]
    }
   ],
   "source": [
    "# initialize pre-tuned nn model\n",
    "nn_model = H2ODeepLearningEstimator(\n",
    "    epochs=50,                    # read over the data 50 times, but in mini-batches\n",
    "    hidden=[100],                 # 100 hidden units in 1 hidden layer\n",
    "    activation='Tanh',            # bounded activation function that allows for dropout, tanh  \n",
    "    l2=0.007,                     # L2 penalty can increase stability in presence of highly correlated inputs\n",
    "    adaptive_rate=True,           # adjust magnitude of weight updates automatically (+stability, +accuracy)\n",
    "    stopping_rounds=2,            # stop after validation error does not decrease for 5 iterations\n",
    "    score_each_iteration=True,    # score validation error on every iteration\n",
    "    reproducible=True,\n",
    "    seed=12345)                   \n",
    "    \n",
    "# train nn model\n",
    "nn_model.train(\n",
    "    x=X,\n",
    "    y=y,\n",
    "    training_frame=train,\n",
    "    validation_frame=valid)"
   ]
  },
  {
   "cell_type": "code",
   "execution_count": 8,
   "metadata": {},
   "outputs": [
    {
     "name": "stdout",
     "output_type": "stream",
     "text": [
      "0.11777056077837342\n",
      "0.1322356396355553\n"
     ]
    }
   ],
   "source": [
    "# measure nn AUC\n",
    "print(nn_model.rmsle(train=True))\n",
    "print(nn_model.rmsle(valid=True))"
   ]
  },
  {
   "cell_type": "markdown",
   "metadata": {},
   "source": [
    "## Use a decision tree surrogate to generate explanations of the \"black box\" model"
   ]
  },
  {
   "cell_type": "markdown",
   "metadata": {},
   "source": [
    "#### First bind the \"black box\" model predictions onto the training frame"
   ]
  },
  {
   "cell_type": "code",
   "execution_count": 9,
   "metadata": {},
   "outputs": [
    {
     "name": "stdout",
     "output_type": "stream",
     "text": [
      "deeplearning prediction progress: |███████████████████████████████████████| 100%\n"
     ]
    }
   ],
   "source": [
    "# cbind predictions to training frame\n",
    "# give them a nice name\n",
    "preds = nn_model.predict(frame)\n",
    "preds.columns = ['predicted_SalePrice']\n",
    "frame_yhat = frame.cbind(preds)"
   ]
  },
  {
   "cell_type": "markdown",
   "metadata": {},
   "source": [
    "#### Train decision tree surrogate model"
   ]
  },
  {
   "cell_type": "code",
   "execution_count": 10,
   "metadata": {},
   "outputs": [
    {
     "name": "stdout",
     "output_type": "stream",
     "text": [
      "gbm Model Build progress: |███████████████████████████████████████████████| 100%\n",
      "Model Details\n",
      "=============\n",
      "H2OGradientBoostingEstimator :  Gradient Boosting Machine\n",
      "Model Key:  dt_surrogate_mojo\n",
      "\n",
      "\n",
      "ModelMetricsRegression: gbm\n",
      "** Reported on train data. **\n",
      "\n",
      "MSE: 4462180552.234049\n",
      "RMSE: 66799.55503020996\n",
      "MAE: 50266.55509952911\n",
      "RMSLE: 0.3577042399272385\n",
      "Mean Residual Deviance: 4462180552.234049\n",
      "Scoring History: \n"
     ]
    },
    {
     "data": {
      "text/html": [
       "<div style=\"overflow:auto\"><table style=\"width:50%\"><tr><td><b></b></td>\n",
       "<td><b>timestamp</b></td>\n",
       "<td><b>duration</b></td>\n",
       "<td><b>number_of_trees</b></td>\n",
       "<td><b>training_rmse</b></td>\n",
       "<td><b>training_mae</b></td>\n",
       "<td><b>training_deviance</b></td></tr>\n",
       "<tr><td></td>\n",
       "<td>2018-04-04 11:57:24</td>\n",
       "<td> 0.004 sec</td>\n",
       "<td>0.0</td>\n",
       "<td>72160.1429188</td>\n",
       "<td>54244.6418100</td>\n",
       "<td>5207086226.0560284</td></tr>\n",
       "<tr><td></td>\n",
       "<td>2018-04-04 11:57:24</td>\n",
       "<td> 0.098 sec</td>\n",
       "<td>1.0</td>\n",
       "<td>66799.5550302</td>\n",
       "<td>50266.5550995</td>\n",
       "<td>4462180552.2340488</td></tr></table></div>"
      ],
      "text/plain": [
       "    timestamp            duration    number_of_trees    training_rmse    training_mae    training_deviance\n",
       "--  -------------------  ----------  -----------------  ---------------  --------------  -------------------\n",
       "    2018-04-04 11:57:24  0.004 sec   0                  72160.1          54244.6         5.20709e+09\n",
       "    2018-04-04 11:57:24  0.098 sec   1                  66799.6          50266.6         4.46218e+09"
      ]
     },
     "metadata": {},
     "output_type": "display_data"
    },
    {
     "name": "stdout",
     "output_type": "stream",
     "text": [
      "Variable Importances: \n"
     ]
    },
    {
     "data": {
      "text/html": [
       "<div style=\"overflow:auto\"><table style=\"width:50%\"><tr><td><b>variable</b></td>\n",
       "<td><b>relative_importance</b></td>\n",
       "<td><b>scaled_importance</b></td>\n",
       "<td><b>percentage</b></td></tr>\n",
       "<tr><td>OverallQual</td>\n",
       "<td>4995445424128.0000000</td>\n",
       "<td>1.0</td>\n",
       "<td>0.8727176</td></tr>\n",
       "<tr><td>GrLivArea</td>\n",
       "<td>596508934144.0000000</td>\n",
       "<td>0.1194106</td>\n",
       "<td>0.1042117</td></tr>\n",
       "<tr><td>TotalBsmtSF</td>\n",
       "<td>132056752128.0000000</td>\n",
       "<td>0.0264354</td>\n",
       "<td>0.0230707</td></tr>\n",
       "<tr><td>MSSubClass</td>\n",
       "<td>0.0</td>\n",
       "<td>0.0</td>\n",
       "<td>0.0</td></tr>\n",
       "<tr><td>MSZoning</td>\n",
       "<td>0.0</td>\n",
       "<td>0.0</td>\n",
       "<td>0.0</td></tr>\n",
       "<tr><td>---</td>\n",
       "<td>---</td>\n",
       "<td>---</td>\n",
       "<td>---</td></tr>\n",
       "<tr><td>MiscVal</td>\n",
       "<td>0.0</td>\n",
       "<td>0.0</td>\n",
       "<td>0.0</td></tr>\n",
       "<tr><td>MoSold</td>\n",
       "<td>0.0</td>\n",
       "<td>0.0</td>\n",
       "<td>0.0</td></tr>\n",
       "<tr><td>YrSold</td>\n",
       "<td>0.0</td>\n",
       "<td>0.0</td>\n",
       "<td>0.0</td></tr>\n",
       "<tr><td>SaleType</td>\n",
       "<td>0.0</td>\n",
       "<td>0.0</td>\n",
       "<td>0.0</td></tr>\n",
       "<tr><td>SaleCondition</td>\n",
       "<td>0.0</td>\n",
       "<td>0.0</td>\n",
       "<td>0.0</td></tr></table></div>"
      ],
      "text/plain": [
       "variable       relative_importance    scaled_importance     percentage\n",
       "-------------  ---------------------  --------------------  -------------------\n",
       "OverallQual    4995445424128.0        1.0                   0.8727176324049645\n",
       "GrLivArea      596508934144.0         0.11941055971963221   0.10421170096266905\n",
       "TotalBsmtSF    132056752128.0         0.026435430860712827  0.02307066663236643\n",
       "MSSubClass     0.0                    0.0                   0.0\n",
       "MSZoning       0.0                    0.0                   0.0\n",
       "---            ---                    ---                   ---\n",
       "MiscVal        0.0                    0.0                   0.0\n",
       "MoSold         0.0                    0.0                   0.0\n",
       "YrSold         0.0                    0.0                   0.0\n",
       "SaleType       0.0                    0.0                   0.0\n",
       "SaleCondition  0.0                    0.0                   0.0"
      ]
     },
     "metadata": {},
     "output_type": "display_data"
    },
    {
     "name": "stdout",
     "output_type": "stream",
     "text": [
      "\n",
      "See the whole table with table.as_data_frame()\n",
      "\n",
      "Generated MOJO path:\n",
      " /home/lingyao/workspace/mli-resources/notebooks/dt_surrogate_mojo.zip\n"
     ]
    }
   ],
   "source": [
    "yhat = 'predicted_SalePrice'\n",
    "model_id = 'dt_surrogate_mojo'\n",
    "\n",
    "# train single tree surrogate model\n",
    "surrogate = H2OGradientBoostingEstimator(ntrees=1,\n",
    "                                         sample_rate=1,\n",
    "                                         col_sample_rate=1,\n",
    "                                         max_depth=3,\n",
    "                                         seed=12345,\n",
    "                                         model_id=model_id)\n",
    "\n",
    "_ = surrogate.train(x=X, y=yhat, training_frame=frame_yhat)\n",
    "\n",
    "# persist MOJO (compiled, representation of trained model)\n",
    "# from which to generate plot of surrogate\n",
    "mojo_path = surrogate.download_mojo(path='.')\n",
    "\n",
    "print(surrogate)\n",
    "print('Generated MOJO path:\\n', mojo_path)"
   ]
  },
  {
   "cell_type": "markdown",
   "metadata": {},
   "source": [
    "#### Generate GraphViz representation of MOJO"
   ]
  },
  {
   "cell_type": "code",
   "execution_count": 11,
   "metadata": {},
   "outputs": [
    {
     "name": "stdout",
     "output_type": "stream",
     "text": [
      "Discovered H2O jar path:\n",
      " /home/lingyao/anaconda3/lib/python3.6/site-packages/h2o/backend/bin/h2o.jar\n",
      "\n",
      "Calling external process ...\n",
      "java -cp /home/lingyao/anaconda3/lib/python3.6/site-packages/h2o/backend/bin/h2o.jar hex.genmodel.tools.PrintMojo --tree 0 -i /home/lingyao/workspace/mli-resources/notebooks/dt_surrogate_mojo.zip -o dt_surrogate_mojo.gv --title Home Prices Decision Tree Surrogate\n"
     ]
    }
   ],
   "source": [
    "details = False # print more info on tree, details = True\n",
    "title = 'Home Prices Decision Tree Surrogate'\n",
    "\n",
    "hs = H2OLocalServer()\n",
    "h2o_jar_path = hs._find_jar()\n",
    "print('Discovered H2O jar path:\\n', h2o_jar_path)\n",
    "\n",
    "gv_file_name = model_id + '.gv'\n",
    "gv_args = str('-cp ' + h2o_jar_path +\n",
    "              ' hex.genmodel.tools.PrintMojo --tree 0 -i '\n",
    "              + mojo_path + ' -o').split()\n",
    "gv_args.insert(0, 'java')\n",
    "gv_args.append(gv_file_name)\n",
    "\n",
    "if details:\n",
    "    gv_args.append('--detail')\n",
    "\n",
    "if title is not None:\n",
    "    gv_args = gv_args + ['--title', title]\n",
    "    \n",
    "print()\n",
    "print('Calling external process ...')\n",
    "print(' '.join(gv_args))\n",
    "    \n",
    "_ = subprocess.call(gv_args)"
   ]
  },
  {
   "cell_type": "markdown",
   "metadata": {},
   "source": [
    "#### Generate PNG from GraphViz representation"
   ]
  },
  {
   "cell_type": "code",
   "execution_count": 12,
   "metadata": {},
   "outputs": [
    {
     "name": "stdout",
     "output_type": "stream",
     "text": [
      "Calling external process ...\n",
      "dot -Tpng dt_surrogate_mojo.gv -o dt_surrogate_mojo.png\n"
     ]
    }
   ],
   "source": [
    "png_file_name = model_id + '.png'\n",
    "png_args = str('dot -Tpng ' + gv_file_name + ' -o ' + png_file_name)\n",
    "png_args = png_args.split()\n",
    "\n",
    "print('Calling external process ...')\n",
    "print(' '.join(png_args))\n",
    "\n",
    "_ = subprocess.call(png_args)"
   ]
  },
  {
   "cell_type": "markdown",
   "metadata": {},
   "source": [
    "#### Display decision tree surrogate"
   ]
  },
  {
   "cell_type": "code",
   "execution_count": 13,
   "metadata": {
    "scrolled": true
   },
   "outputs": [
    {
     "data": {
      "image/png": "[encoded data removed]",
      "text/plain": [
       "<IPython.core.display.Image object>"
      ]
     },
     "metadata": {},
     "output_type": "display_data"
    }
   ],
   "source": [
    "display(Image((png_file_name)))"
   ]
  },
  {
   "cell_type": "markdown",
   "metadata": {},
   "source": [
    "#### From this surrogate model we can see ...\n",
    "* Some of the most important variables\n",
    "* Important interactions \n",
    "* The decision path for the most expensive houses\n",
    "* The decision path for the least expensive houses\n"
   ]
  },
  {
   "cell_type": "code",
   "execution_count": 14,
   "metadata": {},
   "outputs": [
    {
     "name": "stdout",
     "output_type": "stream",
     "text": [
      "Are you sure you want to shutdown the H2O instance running at http://localhost:54321 (Y/N)? y\n",
      "H2O session _sid_9627 closed.\n"
     ]
    }
   ],
   "source": [
    "# shutdown h2o\n",
    "h2o.cluster().shutdown(prompt=True)"
   ]
  }
 ],
 "metadata": {
  "anaconda-cloud": {},
  "kernelspec": {
   "display_name": "Python 3",
   "language": "python",
   "name": "python3"
  },
  "language_info": {
   "codemirror_mode": {
    "name": "ipython",
    "version": 3
   },
   "file_extension": ".py",
   "mimetype": "text/x-python",
   "name": "python",
   "nbconvert_exporter": "python",
   "pygments_lexer": "ipython3",
   "version": "3.6.4"
  }
 },
 "nbformat": 4,
 "nbformat_minor": 2
}
