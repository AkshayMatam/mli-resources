{
 "cells": [
  {
   "cell_type": "markdown",
   "metadata": {},
   "source": [
    "# License \n",
    "***\n",
    "Copyright 2017 J. Patrick Hall, phall@h2o.ai & Navdeep Gill, navdeep@h2o.ai\n",
    "\n",
    "Permission is hereby granted, free of charge, to any person obtaining a copy of this software and associated documentation files (the \"Software\"), to deal in the Software without restriction, including without limitation the rights to use, copy, modify, merge, publish, distribute, sublicense, and/or sell copies of the Software, and to permit persons to whom the Software is furnished to do so, subject to the following conditions:\n",
    "\n",
    "The above copyright notice and this permission notice shall be included in all copies or substantial portions of the Software.\n",
    "\n",
    "THE SOFTWARE IS PROVIDED \"AS IS\", WITHOUT WARRANTY OF ANY KIND, EXPRESS OR IMPLIED, INCLUDING BUT NOT LIMITED TO THE WARRANTIES OF MERCHANTABILITY, FITNESS FOR A PARTICULAR PURPOSE AND NONINFRINGEMENT. IN NO EVENT SHALL THE AUTHORS OR COPYRIGHT HOLDERS BE LIABLE FOR ANY CLAIM, DAMAGES OR OTHER LIABILITY, WHETHER IN AN ACTION OF CONTRACT, TORT OR OTHERWISE, ARISING FROM, OUT OF OR IN CONNECTION WITH THE SOFTWARE OR THE USE OR OTHER DEALINGS IN THE SOFTWARE."
   ]
  },
  {
   "cell_type": "markdown",
   "metadata": {},
   "source": [
    "# Local Feature Importance and Reason Codes using LOCO\n",
    "***\n",
    "\n",
    "Based on: Lei, Jing, G’Sell, Max, Rinaldo, Alessandro, Tibshirani, Ryan J., and Wasserman, Larry. Distribution-free predictive inference for regression. *Journal of the American Statistical Association*, 2017.\n",
    "\n",
    "http://www.stat.cmu.edu/~ryantibs/papers/conformal.pdf\n",
    "\n",
    "** This notebook presents a variant of leave-one-covariate-out (LOCO) local variable importance that is potentially more appropriate for nonlinear models in which nonlinear dependencies can allow variables to nearly completely replace one another when a model is retrained. Instead of dropping one variable and retraining a model to understand the importance of that variable in a model, these examples set a variable to missing and rescore this new, corrupted sample with the original model. **"
   ]
  },
  {
   "cell_type": "markdown",
   "metadata": {},
   "source": [
    "## Preliminaries: imports, start h2o, load and clean data "
   ]
  },
  {
   "cell_type": "code",
   "execution_count": 1,
   "metadata": {
    "collapsed": false
   },
   "outputs": [],
   "source": [
    "# imports\n",
    "import h2o \n",
    "import numpy as np\n",
    "import pandas as pd\n",
    "from h2o.estimators.gbm import H2OGradientBoostingEstimator"
   ]
  },
  {
   "cell_type": "code",
   "execution_count": 2,
   "metadata": {
    "collapsed": false
   },
   "outputs": [
    {
     "name": "stdout",
     "output_type": "stream",
     "text": [
      "Checking whether there is an H2O instance running at http://localhost:54321..... not found.\n",
      "Attempting to start a local H2O server...\n",
      "  Java Version: java version \"1.8.0_112\"; Java(TM) SE Runtime Environment (build 1.8.0_112-b16); Java HotSpot(TM) 64-Bit Server VM (build 25.112-b16, mixed mode)\n",
      "  Starting server from /Users/phall/anaconda/lib/python3.5/site-packages/h2o/backend/bin/h2o.jar\n",
      "  Ice root: /var/folders/tc/0ss1l73113j3wdyjsxmy1j2r0000gn/T/tmpg0jvp97u\n",
      "  JVM stdout: /var/folders/tc/0ss1l73113j3wdyjsxmy1j2r0000gn/T/tmpg0jvp97u/h2o_phall_started_from_python.out\n",
      "  JVM stderr: /var/folders/tc/0ss1l73113j3wdyjsxmy1j2r0000gn/T/tmpg0jvp97u/h2o_phall_started_from_python.err\n",
      "  Server is running at http://127.0.0.1:54321\n",
      "Connecting to H2O server at http://127.0.0.1:54321... successful.\n"
     ]
    },
    {
     "data": {
      "text/html": [
       "<div style=\"overflow:auto\"><table style=\"width:50%\"><tr><td>H2O cluster uptime:</td>\n",
       "<td>02 secs</td></tr>\n",
       "<tr><td>H2O cluster version:</td>\n",
       "<td>3.14.0.2</td></tr>\n",
       "<tr><td>H2O cluster version age:</td>\n",
       "<td>2 months and 11 days </td></tr>\n",
       "<tr><td>H2O cluster name:</td>\n",
       "<td>H2O_from_python_phall_4ug6cu</td></tr>\n",
       "<tr><td>H2O cluster total nodes:</td>\n",
       "<td>1</td></tr>\n",
       "<tr><td>H2O cluster free memory:</td>\n",
       "<td>3.556 Gb</td></tr>\n",
       "<tr><td>H2O cluster total cores:</td>\n",
       "<td>8</td></tr>\n",
       "<tr><td>H2O cluster allowed cores:</td>\n",
       "<td>8</td></tr>\n",
       "<tr><td>H2O cluster status:</td>\n",
       "<td>accepting new members, healthy</td></tr>\n",
       "<tr><td>H2O connection url:</td>\n",
       "<td>http://127.0.0.1:54321</td></tr>\n",
       "<tr><td>H2O connection proxy:</td>\n",
       "<td>None</td></tr>\n",
       "<tr><td>H2O internal security:</td>\n",
       "<td>False</td></tr>\n",
       "<tr><td>H2O API Extensions:</td>\n",
       "<td>XGBoost, Algos, AutoML, Core V3, Core V4</td></tr>\n",
       "<tr><td>Python version:</td>\n",
       "<td>3.5.2 final</td></tr></table></div>"
      ],
      "text/plain": [
       "--------------------------  ----------------------------------------\n",
       "H2O cluster uptime:         02 secs\n",
       "H2O cluster version:        3.14.0.2\n",
       "H2O cluster version age:    2 months and 11 days\n",
       "H2O cluster name:           H2O_from_python_phall_4ug6cu\n",
       "H2O cluster total nodes:    1\n",
       "H2O cluster free memory:    3.556 Gb\n",
       "H2O cluster total cores:    8\n",
       "H2O cluster allowed cores:  8\n",
       "H2O cluster status:         accepting new members, healthy\n",
       "H2O connection url:         http://127.0.0.1:54321\n",
       "H2O connection proxy:\n",
       "H2O internal security:      False\n",
       "H2O API Extensions:         XGBoost, Algos, AutoML, Core V3, Core V4\n",
       "Python version:             3.5.2 final\n",
       "--------------------------  ----------------------------------------"
      ]
     },
     "metadata": {},
     "output_type": "display_data"
    }
   ],
   "source": [
    "# start h2o\n",
    "h2o.init()\n",
    "h2o.remove_all()\n",
    "h2o.show_progress()"
   ]
  },
  {
   "cell_type": "markdown",
   "metadata": {},
   "source": [
    "#### Load and prepare data for modeling"
   ]
  },
  {
   "cell_type": "code",
   "execution_count": 3,
   "metadata": {
    "collapsed": false
   },
   "outputs": [
    {
     "name": "stdout",
     "output_type": "stream",
     "text": [
      "Parse progress: |█████████████████████████████████████████████████████████| 100%\n"
     ]
    }
   ],
   "source": [
    "# load clean data\n",
    "path = '../data/train.csv'\n",
    "frame = h2o.import_file(path=path)"
   ]
  },
  {
   "cell_type": "code",
   "execution_count": 4,
   "metadata": {
    "collapsed": false
   },
   "outputs": [],
   "source": [
    "# assign target and inputs\n",
    "y = 'SalePrice'\n",
    "X = [name for name in frame.columns if name not in [y, 'Id']]"
   ]
  },
  {
   "cell_type": "markdown",
   "metadata": {},
   "source": [
    "#### LOCO is simpler to use with data containing no missing values"
   ]
  },
  {
   "cell_type": "code",
   "execution_count": 5,
   "metadata": {
    "collapsed": true
   },
   "outputs": [],
   "source": [
    "# determine column types\n",
    "# impute\n",
    "reals, enums = [], []\n",
    "for key, val in frame.types.items():\n",
    "    if key in X:\n",
    "        if val == 'enum':\n",
    "            enums.append(key)\n",
    "        else: \n",
    "            reals.append(key)\n",
    "            \n",
    "_ = frame[reals].impute(method='median')\n",
    "_ = frame[enums].impute(method='mode')"
   ]
  },
  {
   "cell_type": "code",
   "execution_count": 6,
   "metadata": {
    "collapsed": true
   },
   "outputs": [],
   "source": [
    "# split into training and validation\n",
    "train, valid = frame.split_frame([0.7])"
   ]
  },
  {
   "cell_type": "markdown",
   "metadata": {},
   "source": [
    "#### Understanding linear correlation and nonlinear dependencies are important for LOCO.\n",
    "* If strong relationships are present, retraining the model after removing an input will simply allow the linearly correlated or nonlinearly dependent variables to make up for the impact of the removed input. This why we will set to missing here, and **not** drop and retrain.\n",
    "* If such relationships are present, models must be regularized to prevent correlation or other dependencies from creating instability in model parameters or rules. (H2O GBM is regularized by column and row sampling.)\n",
    "* For H2O GBM, setting a variable to missing causes it to follow the majority path in each decision tree. The interpretation of LOCO becomes the numeric difference between the local behavior of the variable and the most common local behavior.\n",
    "* Because of linear correlation and nonlinear dependence, LOCO values are valid only for a given data and feature set. "
   ]
  },
  {
   "cell_type": "code",
   "execution_count": 7,
   "metadata": {
    "collapsed": false
   },
   "outputs": [
    {
     "name": "stdout",
     "output_type": "stream",
     "text": [
      "TotRmsAbvGrd GrLivArea\n",
      "1stFlrSF TotalBsmtSF\n",
      "GarageYrBlt YearBuilt\n",
      "YearBuilt GarageYrBlt\n",
      "GarageCars GarageArea\n",
      "GarageArea GarageCars\n",
      "GrLivArea TotRmsAbvGrd\n",
      "TotalBsmtSF 1stFlrSF\n"
     ]
    }
   ],
   "source": [
    "# print out linearly correlated pairs\n",
    "corr = train[reals].cor().as_data_frame()\n",
    "for i in range(0, corr.shape[0]):\n",
    "    for j in range(0, corr.shape[1]):\n",
    "        if i != j:\n",
    "            if np.abs(corr.iat[i, j]) > 0.7:\n",
    "                print(corr.columns[i], corr.columns[j])"
   ]
  },
  {
   "cell_type": "markdown",
   "metadata": {},
   "source": [
    "It's likely that even more nonlinearly dependent relationships exist between inputs. Nonlinearly relationships can also behave differently at global and local scales."
   ]
  },
  {
   "cell_type": "markdown",
   "metadata": {
    "collapsed": true
   },
   "source": [
    "#### Removing one variable from each correlated pair may increase stability in the model and its explanations"
   ]
  },
  {
   "cell_type": "code",
   "execution_count": 8,
   "metadata": {
    "collapsed": false
   },
   "outputs": [],
   "source": [
    "X_reals_decorr = [i for i in reals if i not in  ['GarageYrBlt', 'TotRmsAbvGrd', 'TotalBsmtSF', 'GarageCars']]"
   ]
  },
  {
   "cell_type": "markdown",
   "metadata": {},
   "source": [
    "## Train a predictive model"
   ]
  },
  {
   "cell_type": "code",
   "execution_count": 9,
   "metadata": {
    "collapsed": false
   },
   "outputs": [
    {
     "name": "stdout",
     "output_type": "stream",
     "text": [
      "gbm Model Build progress: |███████████████████████████████████████████████| 100%\n",
      "gbm prediction progress: |████████████████████████████████████████████████| 100%\n"
     ]
    }
   ],
   "source": [
    "# train GBM model\n",
    "model = H2OGradientBoostingEstimator(ntrees=100,\n",
    "                                     max_depth=10,\n",
    "                                     distribution='huber',\n",
    "                                     learn_rate=0.1,\n",
    "                                     stopping_rounds=5,\n",
    "                                     seed=12345)\n",
    "\n",
    "model.train(y=y, x=X_reals_decorr, training_frame=train, validation_frame=valid)\n",
    "\n",
    "preds = valid['Id'].cbind(model.predict(valid))"
   ]
  },
  {
   "cell_type": "markdown",
   "metadata": {},
   "source": [
    "## Rescore predictive model\n",
    "* Each time leaving one input (\"covariate\") out by setting it to missing\n",
    "* To generate local feature importance values for each decision"
   ]
  },
  {
   "cell_type": "code",
   "execution_count": 10,
   "metadata": {
    "collapsed": false
   },
   "outputs": [
    {
     "name": "stdout",
     "output_type": "stream",
     "text": [
      "LOCO Progress: BsmtFinSF1 (1/32) ...\n",
      "LOCO Progress: ScreenPorch (2/32) ...\n",
      "LOCO Progress: BsmtUnfSF (3/32) ...\n",
      "LOCO Progress: LowQualFinSF (4/32) ...\n",
      "LOCO Progress: PoolArea (5/32) ...\n",
      "LOCO Progress: HalfBath (6/32) ...\n",
      "LOCO Progress: BsmtFinSF2 (7/32) ...\n",
      "LOCO Progress: YrSold (8/32) ...\n",
      "LOCO Progress: 2ndFlrSF (9/32) ...\n",
      "LOCO Progress: 3SsnPorch (10/32) ...\n",
      "LOCO Progress: 1stFlrSF (11/32) ...\n",
      "LOCO Progress: LotFrontage (12/32) ...\n",
      "LOCO Progress: YearBuilt (13/32) ...\n",
      "LOCO Progress: YearRemodAdd (14/32) ...\n",
      "LOCO Progress: BedroomAbvGr (15/32) ...\n",
      "LOCO Progress: OverallCond (16/32) ...\n",
      "LOCO Progress: MiscVal (17/32) ...\n",
      "LOCO Progress: LotArea (18/32) ...\n",
      "LOCO Progress: GarageArea (19/32) ...\n",
      "LOCO Progress: KitchenAbvGr (20/32) ...\n",
      "LOCO Progress: GrLivArea (21/32) ...\n",
      "LOCO Progress: MSSubClass (22/32) ...\n",
      "LOCO Progress: MasVnrArea (23/32) ...\n",
      "LOCO Progress: EnclosedPorch (24/32) ...\n",
      "LOCO Progress: BsmtHalfBath (25/32) ...\n",
      "LOCO Progress: FullBath (26/32) ...\n",
      "LOCO Progress: OverallQual (27/32) ...\n",
      "LOCO Progress: Fireplaces (28/32) ...\n",
      "LOCO Progress: WoodDeckSF (29/32) ...\n",
      "LOCO Progress: MoSold (30/32) ...\n",
      "LOCO Progress: BsmtFullBath (31/32) ...\n",
      "LOCO Progress: OpenPorchSF (32/32) ...\n",
      "Done.\n"
     ]
    },
    {
     "data": {
      "text/html": [
       "<table>\n",
       "<thead>\n",
       "<tr><th style=\"text-align: right;\">  Id</th><th style=\"text-align: right;\">  predict</th><th style=\"text-align: right;\">  BsmtFinSF1</th><th style=\"text-align: right;\">  ScreenPorch</th><th style=\"text-align: right;\">  BsmtUnfSF</th><th style=\"text-align: right;\">  LowQualFinSF</th><th style=\"text-align: right;\">  PoolArea</th><th style=\"text-align: right;\">  HalfBath</th><th style=\"text-align: right;\">  BsmtFinSF2</th><th style=\"text-align: right;\">   YrSold</th><th style=\"text-align: right;\">  2ndFlrSF</th><th style=\"text-align: right;\">  3SsnPorch</th><th style=\"text-align: right;\">  1stFlrSF</th><th style=\"text-align: right;\">  LotFrontage</th><th style=\"text-align: right;\">  YearBuilt</th><th style=\"text-align: right;\">  YearRemodAdd</th><th style=\"text-align: right;\">  BedroomAbvGr</th><th style=\"text-align: right;\">  OverallCond</th><th style=\"text-align: right;\">  MiscVal</th><th style=\"text-align: right;\">  LotArea</th><th style=\"text-align: right;\">  GarageArea</th><th style=\"text-align: right;\">  KitchenAbvGr</th><th style=\"text-align: right;\">  GrLivArea</th><th style=\"text-align: right;\">  MSSubClass</th><th style=\"text-align: right;\">  MasVnrArea</th><th style=\"text-align: right;\">  EnclosedPorch</th><th style=\"text-align: right;\">  BsmtHalfBath</th><th style=\"text-align: right;\">  FullBath</th><th style=\"text-align: right;\">  OverallQual</th><th style=\"text-align: right;\">  Fireplaces</th><th style=\"text-align: right;\">  WoodDeckSF</th><th style=\"text-align: right;\">   MoSold</th><th style=\"text-align: right;\">  BsmtFullBath</th><th style=\"text-align: right;\">  OpenPorchSF</th></tr>\n",
       "</thead>\n",
       "<tbody>\n",
       "<tr><td style=\"text-align: right;\">   7</td><td style=\"text-align: right;\"> 282973  </td><td style=\"text-align: right;\">    -8713.03</td><td style=\"text-align: right;\">            0</td><td style=\"text-align: right;\">    753.338</td><td style=\"text-align: right;\">             0</td><td style=\"text-align: right;\">         0</td><td style=\"text-align: right;\">     0    </td><td style=\"text-align: right;\">           0</td><td style=\"text-align: right;\">-1311.68 </td><td style=\"text-align: right;\">     0    </td><td style=\"text-align: right;\">          0</td><td style=\"text-align: right;\">-11979.8  </td><td style=\"text-align: right;\">     -271.027</td><td style=\"text-align: right;\">  -5422.76 </td><td style=\"text-align: right;\">       103.007</td><td style=\"text-align: right;\">         0    </td><td style=\"text-align: right;\">        0    </td><td style=\"text-align: right;\">        0</td><td style=\"text-align: right;\">14345.7  </td><td style=\"text-align: right;\">    3507.71 </td><td style=\"text-align: right;\">          0   </td><td style=\"text-align: right;\">  18072.3  </td><td style=\"text-align: right;\">   2241.93  </td><td style=\"text-align: right;\">  -2646.57  </td><td style=\"text-align: right;\">          0    </td><td style=\"text-align: right;\">         0    </td><td style=\"text-align: right;\">  -97.5868</td><td style=\"text-align: right;\">    -77113.2 </td><td style=\"text-align: right;\">    -747.495</td><td style=\"text-align: right;\">  -1082.53  </td><td style=\"text-align: right;\"> 1009.32 </td><td style=\"text-align: right;\">      -162.746</td><td style=\"text-align: right;\">    -2334.72 </td></tr>\n",
       "<tr><td style=\"text-align: right;\">  10</td><td style=\"text-align: right;\"> 119231  </td><td style=\"text-align: right;\">    -1758.3 </td><td style=\"text-align: right;\">            0</td><td style=\"text-align: right;\">   -310.442</td><td style=\"text-align: right;\">             0</td><td style=\"text-align: right;\">         0</td><td style=\"text-align: right;\">     0    </td><td style=\"text-align: right;\">           0</td><td style=\"text-align: right;\">  576.505</td><td style=\"text-align: right;\">     0    </td><td style=\"text-align: right;\">          0</td><td style=\"text-align: right;\">  1560.13 </td><td style=\"text-align: right;\">     9223.25 </td><td style=\"text-align: right;\">   7903.35 </td><td style=\"text-align: right;\">      -615.11 </td><td style=\"text-align: right;\">         0    </td><td style=\"text-align: right;\">     -600.45 </td><td style=\"text-align: right;\">        0</td><td style=\"text-align: right;\">  670.873</td><td style=\"text-align: right;\">    4381.13 </td><td style=\"text-align: right;\">       1230.06</td><td style=\"text-align: right;\">   6952.78 </td><td style=\"text-align: right;\">  -1991.72  </td><td style=\"text-align: right;\">      0     </td><td style=\"text-align: right;\">          0    </td><td style=\"text-align: right;\">         0    </td><td style=\"text-align: right;\">    0     </td><td style=\"text-align: right;\">         0   </td><td style=\"text-align: right;\">  -10861    </td><td style=\"text-align: right;\">      0     </td><td style=\"text-align: right;\"> 2486.23 </td><td style=\"text-align: right;\">     -3252.06 </td><td style=\"text-align: right;\">        0    </td></tr>\n",
       "<tr><td style=\"text-align: right;\">  16</td><td style=\"text-align: right;\"> 167301  </td><td style=\"text-align: right;\">     1479.7 </td><td style=\"text-align: right;\">            0</td><td style=\"text-align: right;\">  -1216.61 </td><td style=\"text-align: right;\">             0</td><td style=\"text-align: right;\">         0</td><td style=\"text-align: right;\">  2059.9  </td><td style=\"text-align: right;\">           0</td><td style=\"text-align: right;\">  958.35 </td><td style=\"text-align: right;\">  -763.018</td><td style=\"text-align: right;\">          0</td><td style=\"text-align: right;\">  4440.81 </td><td style=\"text-align: right;\">    10411.4  </td><td style=\"text-align: right;\">    686.054</td><td style=\"text-align: right;\">       792.547</td><td style=\"text-align: right;\">         0    </td><td style=\"text-align: right;\">    -3348.79 </td><td style=\"text-align: right;\">        0</td><td style=\"text-align: right;\"> 5150.86 </td><td style=\"text-align: right;\">   -1017.73 </td><td style=\"text-align: right;\">          0   </td><td style=\"text-align: right;\">  13060.2  </td><td style=\"text-align: right;\">    322.528 </td><td style=\"text-align: right;\">      0     </td><td style=\"text-align: right;\">          0    </td><td style=\"text-align: right;\">         0    </td><td style=\"text-align: right;\">  510.909 </td><td style=\"text-align: right;\">    -63812.9 </td><td style=\"text-align: right;\">    2322.95 </td><td style=\"text-align: right;\">     92.1989</td><td style=\"text-align: right;\"> -362.84 </td><td style=\"text-align: right;\">         0    </td><td style=\"text-align: right;\">     -610.031</td></tr>\n",
       "<tr><td style=\"text-align: right;\">  26</td><td style=\"text-align: right;\"> 243534  </td><td style=\"text-align: right;\">    11158.6 </td><td style=\"text-align: right;\">            0</td><td style=\"text-align: right;\">  10896.9  </td><td style=\"text-align: right;\">             0</td><td style=\"text-align: right;\">         0</td><td style=\"text-align: right;\">  -197.932</td><td style=\"text-align: right;\">           0</td><td style=\"text-align: right;\"> 1212.71 </td><td style=\"text-align: right;\">     0    </td><td style=\"text-align: right;\">          0</td><td style=\"text-align: right;\">  -342.603</td><td style=\"text-align: right;\">    -5155.62 </td><td style=\"text-align: right;\">  -6097.54 </td><td style=\"text-align: right;\">         0    </td><td style=\"text-align: right;\">         0    </td><td style=\"text-align: right;\">        0    </td><td style=\"text-align: right;\">        0</td><td style=\"text-align: right;\">-8189.35 </td><td style=\"text-align: right;\">   -2558.69 </td><td style=\"text-align: right;\">          0   </td><td style=\"text-align: right;\">  42549.6  </td><td style=\"text-align: right;\">      0     </td><td style=\"text-align: right;\">    436.487 </td><td style=\"text-align: right;\">          0    </td><td style=\"text-align: right;\">         0    </td><td style=\"text-align: right;\">    0     </td><td style=\"text-align: right;\">    -54035.7 </td><td style=\"text-align: right;\">    -106.41 </td><td style=\"text-align: right;\">  13392.1   </td><td style=\"text-align: right;\"> -227.652</td><td style=\"text-align: right;\">      4181.06 </td><td style=\"text-align: right;\">     -660.37 </td></tr>\n",
       "<tr><td style=\"text-align: right;\">  30</td><td style=\"text-align: right;\">  76613.6</td><td style=\"text-align: right;\">     5037.7 </td><td style=\"text-align: right;\">            0</td><td style=\"text-align: right;\">   1316.95 </td><td style=\"text-align: right;\">             0</td><td style=\"text-align: right;\">         0</td><td style=\"text-align: right;\">     0    </td><td style=\"text-align: right;\">           0</td><td style=\"text-align: right;\">    0    </td><td style=\"text-align: right;\">     0    </td><td style=\"text-align: right;\">          0</td><td style=\"text-align: right;\">  4169.58 </td><td style=\"text-align: right;\">      223.428</td><td style=\"text-align: right;\">   8084.36 </td><td style=\"text-align: right;\">      3464.83 </td><td style=\"text-align: right;\">       208.942</td><td style=\"text-align: right;\">    -5214.39 </td><td style=\"text-align: right;\">        0</td><td style=\"text-align: right;\"> 1615.82 </td><td style=\"text-align: right;\">    4023.52 </td><td style=\"text-align: right;\">          0   </td><td style=\"text-align: right;\">   3930.99 </td><td style=\"text-align: right;\">   -804.116 </td><td style=\"text-align: right;\">      0     </td><td style=\"text-align: right;\">        -23.967</td><td style=\"text-align: right;\">         0    </td><td style=\"text-align: right;\">    0     </td><td style=\"text-align: right;\">      8427.48</td><td style=\"text-align: right;\">       0    </td><td style=\"text-align: right;\">      0     </td><td style=\"text-align: right;\"> 3150    </td><td style=\"text-align: right;\">         0    </td><td style=\"text-align: right;\">        0    </td></tr>\n",
       "<tr><td style=\"text-align: right;\">  38</td><td style=\"text-align: right;\"> 154383  </td><td style=\"text-align: right;\">    -5268.81</td><td style=\"text-align: right;\">            0</td><td style=\"text-align: right;\">  -2419.13 </td><td style=\"text-align: right;\">             0</td><td style=\"text-align: right;\">         0</td><td style=\"text-align: right;\">     0    </td><td style=\"text-align: right;\">           0</td><td style=\"text-align: right;\">  820.523</td><td style=\"text-align: right;\">     0    </td><td style=\"text-align: right;\">          0</td><td style=\"text-align: right;\">-10791.9  </td><td style=\"text-align: right;\">    -1135.46 </td><td style=\"text-align: right;\">   4608.65 </td><td style=\"text-align: right;\">       239.79 </td><td style=\"text-align: right;\">         0    </td><td style=\"text-align: right;\">      253.513</td><td style=\"text-align: right;\">        0</td><td style=\"text-align: right;\"> -876.452</td><td style=\"text-align: right;\">    -428.087</td><td style=\"text-align: right;\">          0   </td><td style=\"text-align: right;\">   -802.211</td><td style=\"text-align: right;\">    -96.7135</td><td style=\"text-align: right;\">    118.637 </td><td style=\"text-align: right;\">          0    </td><td style=\"text-align: right;\">      -160.914</td><td style=\"text-align: right;\">    0     </td><td style=\"text-align: right;\">      4069.28</td><td style=\"text-align: right;\">   -6896.72 </td><td style=\"text-align: right;\">      0     </td><td style=\"text-align: right;\"> 4023.39 </td><td style=\"text-align: right;\">         0    </td><td style=\"text-align: right;\">     -198.409</td></tr>\n",
       "<tr><td style=\"text-align: right;\">  55</td><td style=\"text-align: right;\"> 140807  </td><td style=\"text-align: right;\">    -1134.75</td><td style=\"text-align: right;\">            0</td><td style=\"text-align: right;\">   1448.99 </td><td style=\"text-align: right;\">             0</td><td style=\"text-align: right;\">         0</td><td style=\"text-align: right;\">     0    </td><td style=\"text-align: right;\">           0</td><td style=\"text-align: right;\">-1254.53 </td><td style=\"text-align: right;\">     0    </td><td style=\"text-align: right;\">          0</td><td style=\"text-align: right;\"> -3138.16 </td><td style=\"text-align: right;\">    10784.1  </td><td style=\"text-align: right;\">   1863.41 </td><td style=\"text-align: right;\">      3018.93 </td><td style=\"text-align: right;\">         0    </td><td style=\"text-align: right;\">      144.643</td><td style=\"text-align: right;\">        0</td><td style=\"text-align: right;\">-1114.83 </td><td style=\"text-align: right;\">   -3216.28 </td><td style=\"text-align: right;\">          0   </td><td style=\"text-align: right;\">    167.213</td><td style=\"text-align: right;\">  -1751.2   </td><td style=\"text-align: right;\">      0     </td><td style=\"text-align: right;\">          0    </td><td style=\"text-align: right;\">         0    </td><td style=\"text-align: right;\">    0     </td><td style=\"text-align: right;\">      4012.48</td><td style=\"text-align: right;\">   -8758.73 </td><td style=\"text-align: right;\">    357.798 </td><td style=\"text-align: right;\">-1301.34 </td><td style=\"text-align: right;\">         0    </td><td style=\"text-align: right;\">     -732.024</td></tr>\n",
       "<tr><td style=\"text-align: right;\">  58</td><td style=\"text-align: right;\"> 211857  </td><td style=\"text-align: right;\">     1790.54</td><td style=\"text-align: right;\">            0</td><td style=\"text-align: right;\">   -682.258</td><td style=\"text-align: right;\">             0</td><td style=\"text-align: right;\">         0</td><td style=\"text-align: right;\"> -1380.39 </td><td style=\"text-align: right;\">           0</td><td style=\"text-align: right;\">-1429.51 </td><td style=\"text-align: right;\"> -7383.2  </td><td style=\"text-align: right;\">          0</td><td style=\"text-align: right;\">  -911.482</td><td style=\"text-align: right;\">     2652.61 </td><td style=\"text-align: right;\">  -3039.51 </td><td style=\"text-align: right;\">       470.956</td><td style=\"text-align: right;\">         0    </td><td style=\"text-align: right;\">        0    </td><td style=\"text-align: right;\">        0</td><td style=\"text-align: right;\">-5485.69 </td><td style=\"text-align: right;\">   -3929.96 </td><td style=\"text-align: right;\">          0   </td><td style=\"text-align: right;\">  -6448.28 </td><td style=\"text-align: right;\">    -13.8988</td><td style=\"text-align: right;\">    -16.6001</td><td style=\"text-align: right;\">          0    </td><td style=\"text-align: right;\">         0    </td><td style=\"text-align: right;\">    0     </td><td style=\"text-align: right;\">    -29213.4 </td><td style=\"text-align: right;\">    1521.79 </td><td style=\"text-align: right;\">   -754.82  </td><td style=\"text-align: right;\"> -966.75 </td><td style=\"text-align: right;\">         0    </td><td style=\"text-align: right;\">    -1579.69 </td></tr>\n",
       "<tr><td style=\"text-align: right;\">  62</td><td style=\"text-align: right;\"> 106462  </td><td style=\"text-align: right;\">     1467.06</td><td style=\"text-align: right;\">            0</td><td style=\"text-align: right;\">   2551.61 </td><td style=\"text-align: right;\">             0</td><td style=\"text-align: right;\">         0</td><td style=\"text-align: right;\">     0    </td><td style=\"text-align: right;\">           0</td><td style=\"text-align: right;\">  431.321</td><td style=\"text-align: right;\"> -3413.27 </td><td style=\"text-align: right;\">          0</td><td style=\"text-align: right;\">  1547.7  </td><td style=\"text-align: right;\">     1289.96 </td><td style=\"text-align: right;\">   6390.19 </td><td style=\"text-align: right;\">     -1746.24 </td><td style=\"text-align: right;\">       491.705</td><td style=\"text-align: right;\">    -7366.37 </td><td style=\"text-align: right;\">        0</td><td style=\"text-align: right;\"> 1025.74 </td><td style=\"text-align: right;\">     136.108</td><td style=\"text-align: right;\">          0   </td><td style=\"text-align: right;\">   5591.27 </td><td style=\"text-align: right;\">   -852.07  </td><td style=\"text-align: right;\">      0     </td><td style=\"text-align: right;\">        175.588</td><td style=\"text-align: right;\">         0    </td><td style=\"text-align: right;\">    0     </td><td style=\"text-align: right;\">         0   </td><td style=\"text-align: right;\">       0    </td><td style=\"text-align: right;\">      0     </td><td style=\"text-align: right;\">  577.726</td><td style=\"text-align: right;\">         0    </td><td style=\"text-align: right;\">    -1510.95 </td></tr>\n",
       "<tr><td style=\"text-align: right;\">  64</td><td style=\"text-align: right;\"> 161197  </td><td style=\"text-align: right;\">     1726.83</td><td style=\"text-align: right;\">            0</td><td style=\"text-align: right;\">   -329.252</td><td style=\"text-align: right;\">             0</td><td style=\"text-align: right;\">         0</td><td style=\"text-align: right;\">  2587.45 </td><td style=\"text-align: right;\">           0</td><td style=\"text-align: right;\">-1114.78 </td><td style=\"text-align: right;\"> -2902.25 </td><td style=\"text-align: right;\">          0</td><td style=\"text-align: right;\"> -1539.08 </td><td style=\"text-align: right;\">     6846.26 </td><td style=\"text-align: right;\">  -2069.67 </td><td style=\"text-align: right;\">     16180.7  </td><td style=\"text-align: right;\">         0    </td><td style=\"text-align: right;\">    -4809.6  </td><td style=\"text-align: right;\">        0</td><td style=\"text-align: right;\">    0    </td><td style=\"text-align: right;\">    -103.574</td><td style=\"text-align: right;\">          0   </td><td style=\"text-align: right;\">    226.705</td><td style=\"text-align: right;\">   -424.975 </td><td style=\"text-align: right;\">   -596.783 </td><td style=\"text-align: right;\">       2369.08 </td><td style=\"text-align: right;\">         0    </td><td style=\"text-align: right;\">    0     </td><td style=\"text-align: right;\">    -25883.8 </td><td style=\"text-align: right;\">    1170.53 </td><td style=\"text-align: right;\">      0     </td><td style=\"text-align: right;\"> 2651.71 </td><td style=\"text-align: right;\">         0    </td><td style=\"text-align: right;\">     1210.22 </td></tr>\n",
       "</tbody>\n",
       "</table>"
      ]
     },
     "metadata": {},
     "output_type": "display_data"
    },
    {
     "data": {
      "text/plain": []
     },
     "execution_count": 10,
     "metadata": {},
     "output_type": "execute_result"
    }
   ],
   "source": [
    "h2o.no_progress()\n",
    "\n",
    "for k, i in enumerate(X_reals_decorr):\n",
    "\n",
    "    # train and predict with Xi set to missing\n",
    "    valid_loco = h2o.deep_copy(valid, 'valid_loco')\n",
    "    valid_loco[i] = np.nan\n",
    "    preds_loco = model.predict(valid_loco)\n",
    "    \n",
    "    # create a new, named column for the LOCO prediction\n",
    "    preds_loco.columns = [i]\n",
    "    preds = preds.cbind(preds_loco)\n",
    "    \n",
    "    # subtract the original prediction from the LOCO prediction\n",
    "    preds[i] = preds[i] - preds['predict']\n",
    "    \n",
    "    print('LOCO Progress: ' + i + ' (' + str(k+1) + '/' + str(len(X_reals_decorr)) + ') ...')\n",
    "    \n",
    "print('Done.')  \n",
    "\n",
    "preds.head()"
   ]
  },
  {
   "cell_type": "markdown",
   "metadata": {},
   "source": [
    "The numeric values in each column are an estimate of how much each variable contributed to each decision. These values can tell you how a variable and it's values were weighted in any given decision by the model. These values are crucially important for machine learning interpretability and are often referred to as \"local feature importance\", \"reason codes\", or \"turn-down codes.\" The latter phrases are borrowed from credit scoring. Credit lenders must provide reasons for turning down a credit application by automated decisions. Reason codes can be easily extracted from LOCO local feature importance values by simply ranking the variables that played the largest role in any given decision."
   ]
  },
  {
   "cell_type": "markdown",
   "metadata": {},
   "source": [
    "#### Helper function for finding quantile indices"
   ]
  },
  {
   "cell_type": "code",
   "execution_count": 11,
   "metadata": {
    "collapsed": false
   },
   "outputs": [
    {
     "name": "stdout",
     "output_type": "stream",
     "text": [
      "{0: 706, 80: 825, 50: 1264, 99: 1183, 20: 1180, 70: 422, 40: 902, 10: 155, 60: 767, 90: 409, 30: 1203}\n"
     ]
    }
   ],
   "source": [
    "def get_quantile_dict(y, id_, frame):\n",
    "\n",
    "    \"\"\" Returns the percentiles of a column y as the indices for another column id_.\n",
    "    \n",
    "    Args:\n",
    "        y: Column in which to find percentiles.\n",
    "        id_: Id column that stores indices for percentiles of y.\n",
    "        frame: H2OFrame containing y and id_. \n",
    "    \n",
    "    Returns:\n",
    "        Dictionary of percentile values and index column values.\n",
    "    \n",
    "    \"\"\"\n",
    "    \n",
    "    quantiles_df = frame.as_data_frame()\n",
    "    quantiles_df.sort_values(y, inplace=True)\n",
    "    quantiles_df.reset_index(inplace=True)\n",
    "    \n",
    "    percentiles_dict = {}\n",
    "    percentiles_dict[0] = quantiles_df.loc[0, id_]\n",
    "    percentiles_dict[99] = quantiles_df.loc[quantiles_df.shape[0]-1, id_]\n",
    "    inc = quantiles_df.shape[0]//10\n",
    "    \n",
    "    for i in range(1, 10):\n",
    "        percentiles_dict[i * 10] = quantiles_df.loc[i * inc,  id_]\n",
    "\n",
    "    return percentiles_dict\n",
    "\n",
    "quantile_dict = get_quantile_dict('predict', 'Id', preds)\n",
    "print(quantile_dict)"
   ]
  },
  {
   "cell_type": "markdown",
   "metadata": {},
   "source": [
    "#### Plot some reason codes for a representative row"
   ]
  },
  {
   "cell_type": "code",
   "execution_count": 12,
   "metadata": {
    "collapsed": true
   },
   "outputs": [],
   "source": [
    "%matplotlib inline"
   ]
  },
  {
   "cell_type": "code",
   "execution_count": 13,
   "metadata": {
    "collapsed": false
   },
   "outputs": [
    {
     "data": {
      "image/png": "[encoded data removed]",
      "text/plain": [
       "<matplotlib.figure.Figure at 0x119483860>"
      ]
     },
     "metadata": {},
     "output_type": "display_data"
    }
   ],
   "source": [
    "median_loco = preds[preds['Id'] == int(quantile_dict[50]), :].as_data_frame().drop(['Id', 'predict'], axis=1)\n",
    "median_loco = median_loco.T.sort_values(by=0)[:5]\n",
    "_ = median_loco.plot(kind='bar', \n",
    "                     title='Negative Reason Codes for the Median of Predicted Sale Price\\n', \n",
    "                     legend=False)"
   ]
  },
  {
   "cell_type": "code",
   "execution_count": 14,
   "metadata": {
    "collapsed": false
   },
   "outputs": [
    {
     "data": {
      "image/png": "[encoded data removed]",
      "text/plain": [
       "<matplotlib.figure.Figure at 0x1194ae0b8>"
      ]
     },
     "metadata": {},
     "output_type": "display_data"
    }
   ],
   "source": [
    "median_loco = preds[preds['Id'] == int(quantile_dict[50]), :].as_data_frame().drop(['Id', 'predict'], axis=1)\n",
    "median_loco = median_loco.T.sort_values(by=0, ascending=False)[:5]\n",
    "_ = median_loco.plot(kind='bar', \n",
    "                     title='Positive Reason Codes for the Median of Predicted Sale Price\\n', \n",
    "                     color='r',\n",
    "                     legend=False)"
   ]
  },
  {
   "cell_type": "markdown",
   "metadata": {},
   "source": [
    "## Ensembling explantions to reduce local variance\n",
    "Explanations derived from high variance machine learning models can be unstable. One general way to decrease variance is to ensemble the results of many models."
   ]
  },
  {
   "cell_type": "markdown",
   "metadata": {},
   "source": [
    "#### Train multiple models"
   ]
  },
  {
   "cell_type": "code",
   "execution_count": 15,
   "metadata": {
    "collapsed": false
   },
   "outputs": [
    {
     "name": "stdout",
     "output_type": "stream",
     "text": [
      "Training Progress: model 1/10 ...\n",
      "Training Progress: model 2/10 ...\n",
      "Training Progress: model 3/10 ...\n",
      "Training Progress: model 4/10 ...\n",
      "Training Progress: model 5/10 ...\n",
      "Training Progress: model 6/10 ...\n",
      "Training Progress: model 7/10 ...\n",
      "Training Progress: model 8/10 ...\n",
      "Training Progress: model 9/10 ...\n",
      "Training Progress: model 10/10 ...\n",
      "Done.\n"
     ]
    }
   ],
   "source": [
    "n_models = 10 # select number of models\n",
    "\n",
    "models = []\n",
    "pred_frames = []\n",
    "\n",
    "for i in range(0, n_models):\n",
    "\n",
    "    # train and store perturbed models\n",
    "    models.append(H2OGradientBoostingEstimator(ntrees=500,\n",
    "                                               max_depth=2 * (i + 1),\n",
    "                                               distribution='huber',\n",
    "                                               learn_rate=0.01 * (i + 1),\n",
    "                                               stopping_rounds=5,\n",
    "                                               seed=i + 1))\n",
    "    \n",
    "    # train models\n",
    "    models[i].train(y=y, x=X_reals_decorr, training_frame=train, validation_frame=valid)\n",
    "    \n",
    "    # store predictions\n",
    "    pred_frames.append(valid['Id'].cbind(models[i].predict(valid)))\n",
    "\n",
    "    print('Training Progress: model %d/%d ...' % (i + 1, n_models))\n",
    "\n",
    "print('Done.')"
   ]
  },
  {
   "cell_type": "markdown",
   "metadata": {},
   "source": [
    "#### Calculate LOCO for each model"
   ]
  },
  {
   "cell_type": "code",
   "execution_count": 16,
   "metadata": {
    "collapsed": false
   },
   "outputs": [
    {
     "name": "stdout",
     "output_type": "stream",
     "text": [
      "LOCO Progress: model 1/10 ...\n",
      "LOCO Progress: model 2/10 ...\n",
      "LOCO Progress: model 3/10 ...\n",
      "LOCO Progress: model 4/10 ...\n",
      "LOCO Progress: model 5/10 ...\n",
      "LOCO Progress: model 6/10 ...\n",
      "LOCO Progress: model 7/10 ...\n",
      "LOCO Progress: model 8/10 ...\n",
      "LOCO Progress: model 9/10 ...\n",
      "LOCO Progress: model 10/10 ...\n",
      "Done.\n"
     ]
    }
   ],
   "source": [
    "for k, model in enumerate(models):\n",
    "\n",
    "    for i in X_reals_decorr:\n",
    "\n",
    "        # train and predict with Xi set to missing\n",
    "        valid_loco = h2o.deep_copy(valid, 'valid_loco')\n",
    "        valid_loco[i] = np.nan\n",
    "        preds_loco = model.predict(valid_loco)\n",
    "\n",
    "        # create a new, named column for the LOCO prediction\n",
    "        preds_loco.columns = [i]\n",
    "        pred_frames[k] = pred_frames[k].cbind(preds_loco)\n",
    "\n",
    "        # subtract the original prediction from the LOCO prediction\n",
    "        pred_frames[k][i] = pred_frames[k][i] - pred_frames[k]['predict']\n",
    "        \n",
    "    print('LOCO Progress: model %d/%d ...' % (k + 1, n_models))\n",
    "\n",
    "print('Done.')"
   ]
  },
  {
   "cell_type": "markdown",
   "metadata": {},
   "source": [
    "#### Collect LOCO values for each model for the median home"
   ]
  },
  {
   "cell_type": "code",
   "execution_count": 17,
   "metadata": {
    "collapsed": false
   },
   "outputs": [
    {
     "data": {
      "text/html": [
       "<div>\n",
       "<style>\n",
       "    .dataframe thead tr:only-child th {\n",
       "        text-align: right;\n",
       "    }\n",
       "\n",
       "    .dataframe thead th {\n",
       "        text-align: left;\n",
       "    }\n",
       "\n",
       "    .dataframe tbody tr th {\n",
       "        vertical-align: top;\n",
       "    }\n",
       "</style>\n",
       "<table border=\"1\" class=\"dataframe\">\n",
       "  <thead>\n",
       "    <tr style=\"text-align: right;\">\n",
       "      <th></th>\n",
       "      <th>Loco 1</th>\n",
       "      <th>Loco 2</th>\n",
       "      <th>Loco 3</th>\n",
       "      <th>Loco 4</th>\n",
       "      <th>Loco 5</th>\n",
       "      <th>Loco 6</th>\n",
       "      <th>Loco 7</th>\n",
       "      <th>Loco 8</th>\n",
       "      <th>Loco 9</th>\n",
       "      <th>Loco 10</th>\n",
       "      <th>Mean Local Importance</th>\n",
       "      <th>Std. Dev. Local Importance</th>\n",
       "    </tr>\n",
       "  </thead>\n",
       "  <tbody>\n",
       "    <tr>\n",
       "      <th>BsmtFinSF1</th>\n",
       "      <td>6911.078840</td>\n",
       "      <td>4377.918584</td>\n",
       "      <td>469.478352</td>\n",
       "      <td>3792.206862</td>\n",
       "      <td>1487.572631</td>\n",
       "      <td>-800.846150</td>\n",
       "      <td>2742.915025</td>\n",
       "      <td>-1400.102230</td>\n",
       "      <td>130.457089</td>\n",
       "      <td>361.547235</td>\n",
       "      <td>1807.222624</td>\n",
       "      <td>2477.008679</td>\n",
       "    </tr>\n",
       "    <tr>\n",
       "      <th>ScreenPorch</th>\n",
       "      <td>0.000000</td>\n",
       "      <td>0.000000</td>\n",
       "      <td>0.000000</td>\n",
       "      <td>0.000000</td>\n",
       "      <td>0.000000</td>\n",
       "      <td>0.000000</td>\n",
       "      <td>0.000000</td>\n",
       "      <td>0.000000</td>\n",
       "      <td>0.000000</td>\n",
       "      <td>0.000000</td>\n",
       "      <td>0.000000</td>\n",
       "      <td>0.000000</td>\n",
       "    </tr>\n",
       "    <tr>\n",
       "      <th>BsmtUnfSF</th>\n",
       "      <td>0.000000</td>\n",
       "      <td>235.770908</td>\n",
       "      <td>-1272.388641</td>\n",
       "      <td>-2245.113585</td>\n",
       "      <td>99.541150</td>\n",
       "      <td>-2705.051819</td>\n",
       "      <td>-886.317242</td>\n",
       "      <td>-445.005070</td>\n",
       "      <td>-2037.272263</td>\n",
       "      <td>-4256.875702</td>\n",
       "      <td>-1351.271226</td>\n",
       "      <td>1379.783573</td>\n",
       "    </tr>\n",
       "    <tr>\n",
       "      <th>LowQualFinSF</th>\n",
       "      <td>0.000000</td>\n",
       "      <td>0.000000</td>\n",
       "      <td>0.000000</td>\n",
       "      <td>0.000000</td>\n",
       "      <td>0.000000</td>\n",
       "      <td>0.000000</td>\n",
       "      <td>0.000000</td>\n",
       "      <td>0.000000</td>\n",
       "      <td>0.000000</td>\n",
       "      <td>0.000000</td>\n",
       "      <td>0.000000</td>\n",
       "      <td>0.000000</td>\n",
       "    </tr>\n",
       "    <tr>\n",
       "      <th>PoolArea</th>\n",
       "      <td>0.000000</td>\n",
       "      <td>0.000000</td>\n",
       "      <td>0.000000</td>\n",
       "      <td>0.000000</td>\n",
       "      <td>0.000000</td>\n",
       "      <td>0.000000</td>\n",
       "      <td>0.000000</td>\n",
       "      <td>0.000000</td>\n",
       "      <td>0.000000</td>\n",
       "      <td>0.000000</td>\n",
       "      <td>0.000000</td>\n",
       "      <td>0.000000</td>\n",
       "    </tr>\n",
       "    <tr>\n",
       "      <th>HalfBath</th>\n",
       "      <td>0.000000</td>\n",
       "      <td>0.000000</td>\n",
       "      <td>0.000000</td>\n",
       "      <td>-1923.824787</td>\n",
       "      <td>-1444.634644</td>\n",
       "      <td>-1618.759825</td>\n",
       "      <td>-1960.072845</td>\n",
       "      <td>2128.715759</td>\n",
       "      <td>-2639.397675</td>\n",
       "      <td>-2857.639893</td>\n",
       "      <td>-1031.561391</td>\n",
       "      <td>1458.530342</td>\n",
       "    </tr>\n",
       "    <tr>\n",
       "      <th>BsmtFinSF2</th>\n",
       "      <td>0.000000</td>\n",
       "      <td>0.000000</td>\n",
       "      <td>0.000000</td>\n",
       "      <td>0.000000</td>\n",
       "      <td>0.000000</td>\n",
       "      <td>0.000000</td>\n",
       "      <td>0.000000</td>\n",
       "      <td>0.000000</td>\n",
       "      <td>0.000000</td>\n",
       "      <td>0.000000</td>\n",
       "      <td>0.000000</td>\n",
       "      <td>0.000000</td>\n",
       "    </tr>\n",
       "    <tr>\n",
       "      <th>YrSold</th>\n",
       "      <td>0.000000</td>\n",
       "      <td>-103.822459</td>\n",
       "      <td>-108.310131</td>\n",
       "      <td>-465.042801</td>\n",
       "      <td>-557.091040</td>\n",
       "      <td>-2365.650830</td>\n",
       "      <td>-1841.693984</td>\n",
       "      <td>-1628.843033</td>\n",
       "      <td>-146.797810</td>\n",
       "      <td>-474.558171</td>\n",
       "      <td>-769.181026</td>\n",
       "      <td>807.511992</td>\n",
       "    </tr>\n",
       "    <tr>\n",
       "      <th>2ndFlrSF</th>\n",
       "      <td>0.000000</td>\n",
       "      <td>164.641493</td>\n",
       "      <td>428.694211</td>\n",
       "      <td>-43.416967</td>\n",
       "      <td>511.587371</td>\n",
       "      <td>-1349.749777</td>\n",
       "      <td>1530.048454</td>\n",
       "      <td>-1771.459257</td>\n",
       "      <td>363.661969</td>\n",
       "      <td>-1025.465900</td>\n",
       "      <td>-119.145840</td>\n",
       "      <td>939.005105</td>\n",
       "    </tr>\n",
       "    <tr>\n",
       "      <th>3SsnPorch</th>\n",
       "      <td>0.000000</td>\n",
       "      <td>0.000000</td>\n",
       "      <td>0.000000</td>\n",
       "      <td>0.000000</td>\n",
       "      <td>0.000000</td>\n",
       "      <td>0.000000</td>\n",
       "      <td>0.000000</td>\n",
       "      <td>0.000000</td>\n",
       "      <td>0.000000</td>\n",
       "      <td>0.000000</td>\n",
       "      <td>0.000000</td>\n",
       "      <td>0.000000</td>\n",
       "    </tr>\n",
       "    <tr>\n",
       "      <th>1stFlrSF</th>\n",
       "      <td>-1657.771004</td>\n",
       "      <td>6217.166586</td>\n",
       "      <td>1833.585987</td>\n",
       "      <td>1116.583418</td>\n",
       "      <td>1540.635909</td>\n",
       "      <td>1688.403648</td>\n",
       "      <td>1156.652793</td>\n",
       "      <td>0.000000</td>\n",
       "      <td>3487.437325</td>\n",
       "      <td>608.359297</td>\n",
       "      <td>1599.105396</td>\n",
       "      <td>1988.296059</td>\n",
       "    </tr>\n",
       "    <tr>\n",
       "      <th>LotFrontage</th>\n",
       "      <td>4197.270308</td>\n",
       "      <td>3774.922430</td>\n",
       "      <td>5688.193397</td>\n",
       "      <td>1846.184687</td>\n",
       "      <td>2849.708321</td>\n",
       "      <td>1916.474717</td>\n",
       "      <td>3031.255785</td>\n",
       "      <td>538.666702</td>\n",
       "      <td>-834.471908</td>\n",
       "      <td>2325.118156</td>\n",
       "      <td>2533.332260</td>\n",
       "      <td>1755.797259</td>\n",
       "    </tr>\n",
       "    <tr>\n",
       "      <th>YearBuilt</th>\n",
       "      <td>595.479362</td>\n",
       "      <td>7663.221491</td>\n",
       "      <td>6735.580740</td>\n",
       "      <td>9811.238007</td>\n",
       "      <td>9539.716565</td>\n",
       "      <td>7976.275072</td>\n",
       "      <td>10509.080008</td>\n",
       "      <td>6037.629108</td>\n",
       "      <td>12491.411467</td>\n",
       "      <td>4485.634638</td>\n",
       "      <td>7584.526646</td>\n",
       "      <td>3211.459428</td>\n",
       "    </tr>\n",
       "    <tr>\n",
       "      <th>YearRemodAdd</th>\n",
       "      <td>16941.206830</td>\n",
       "      <td>7060.860368</td>\n",
       "      <td>3874.554899</td>\n",
       "      <td>7677.192883</td>\n",
       "      <td>9713.885591</td>\n",
       "      <td>9391.786455</td>\n",
       "      <td>14355.595775</td>\n",
       "      <td>12497.357426</td>\n",
       "      <td>12645.952217</td>\n",
       "      <td>12069.509869</td>\n",
       "      <td>10622.790231</td>\n",
       "      <td>3644.179688</td>\n",
       "    </tr>\n",
       "    <tr>\n",
       "      <th>BedroomAbvGr</th>\n",
       "      <td>0.000000</td>\n",
       "      <td>0.000000</td>\n",
       "      <td>0.000000</td>\n",
       "      <td>0.000000</td>\n",
       "      <td>46.190372</td>\n",
       "      <td>0.000000</td>\n",
       "      <td>-48.286331</td>\n",
       "      <td>0.000000</td>\n",
       "      <td>0.000000</td>\n",
       "      <td>0.000000</td>\n",
       "      <td>-0.209596</td>\n",
       "      <td>21.129792</td>\n",
       "    </tr>\n",
       "    <tr>\n",
       "      <th>OverallCond</th>\n",
       "      <td>-86.886132</td>\n",
       "      <td>-3668.052177</td>\n",
       "      <td>-2998.833943</td>\n",
       "      <td>-3365.597008</td>\n",
       "      <td>-2320.171403</td>\n",
       "      <td>-3424.233607</td>\n",
       "      <td>-1355.549763</td>\n",
       "      <td>-1455.194092</td>\n",
       "      <td>-1712.657982</td>\n",
       "      <td>-922.088812</td>\n",
       "      <td>-2130.926492</td>\n",
       "      <td>1149.828176</td>\n",
       "    </tr>\n",
       "    <tr>\n",
       "      <th>MiscVal</th>\n",
       "      <td>0.000000</td>\n",
       "      <td>0.000000</td>\n",
       "      <td>0.000000</td>\n",
       "      <td>0.000000</td>\n",
       "      <td>0.000000</td>\n",
       "      <td>0.000000</td>\n",
       "      <td>0.000000</td>\n",
       "      <td>0.000000</td>\n",
       "      <td>0.000000</td>\n",
       "      <td>0.000000</td>\n",
       "      <td>0.000000</td>\n",
       "      <td>0.000000</td>\n",
       "    </tr>\n",
       "    <tr>\n",
       "      <th>LotArea</th>\n",
       "      <td>-8737.235603</td>\n",
       "      <td>-11433.384177</td>\n",
       "      <td>-8840.958926</td>\n",
       "      <td>-13805.750001</td>\n",
       "      <td>-9477.599290</td>\n",
       "      <td>-8914.242269</td>\n",
       "      <td>-7548.502365</td>\n",
       "      <td>-14231.058950</td>\n",
       "      <td>-7833.298042</td>\n",
       "      <td>-7982.658407</td>\n",
       "      <td>-9880.468803</td>\n",
       "      <td>2312.166379</td>\n",
       "    </tr>\n",
       "    <tr>\n",
       "      <th>GarageArea</th>\n",
       "      <td>417.691971</td>\n",
       "      <td>0.000000</td>\n",
       "      <td>-92.929184</td>\n",
       "      <td>-176.471650</td>\n",
       "      <td>-52.499548</td>\n",
       "      <td>-707.918155</td>\n",
       "      <td>-1684.424558</td>\n",
       "      <td>1179.372746</td>\n",
       "      <td>-1454.243546</td>\n",
       "      <td>419.172234</td>\n",
       "      <td>-215.224969</td>\n",
       "      <td>823.022899</td>\n",
       "    </tr>\n",
       "    <tr>\n",
       "      <th>KitchenAbvGr</th>\n",
       "      <td>0.000000</td>\n",
       "      <td>0.000000</td>\n",
       "      <td>0.000000</td>\n",
       "      <td>0.000000</td>\n",
       "      <td>0.000000</td>\n",
       "      <td>0.000000</td>\n",
       "      <td>0.000000</td>\n",
       "      <td>0.000000</td>\n",
       "      <td>0.000000</td>\n",
       "      <td>0.000000</td>\n",
       "      <td>0.000000</td>\n",
       "      <td>0.000000</td>\n",
       "    </tr>\n",
       "    <tr>\n",
       "      <th>GrLivArea</th>\n",
       "      <td>-18827.035604</td>\n",
       "      <td>-27530.517219</td>\n",
       "      <td>-25202.093643</td>\n",
       "      <td>-30713.635818</td>\n",
       "      <td>-31324.548223</td>\n",
       "      <td>-30234.448166</td>\n",
       "      <td>-28935.649630</td>\n",
       "      <td>-25354.918239</td>\n",
       "      <td>-27004.719656</td>\n",
       "      <td>-29859.952837</td>\n",
       "      <td>-27498.751904</td>\n",
       "      <td>3541.335588</td>\n",
       "    </tr>\n",
       "    <tr>\n",
       "      <th>MSSubClass</th>\n",
       "      <td>0.000000</td>\n",
       "      <td>-989.306678</td>\n",
       "      <td>-301.593610</td>\n",
       "      <td>2503.493937</td>\n",
       "      <td>2748.067649</td>\n",
       "      <td>3151.430019</td>\n",
       "      <td>2424.719238</td>\n",
       "      <td>1945.341276</td>\n",
       "      <td>1890.060591</td>\n",
       "      <td>1683.539833</td>\n",
       "      <td>1505.575226</td>\n",
       "      <td>1349.934782</td>\n",
       "    </tr>\n",
       "    <tr>\n",
       "      <th>MasVnrArea</th>\n",
       "      <td>0.000000</td>\n",
       "      <td>0.000000</td>\n",
       "      <td>0.000000</td>\n",
       "      <td>0.000000</td>\n",
       "      <td>-266.492290</td>\n",
       "      <td>-1654.032730</td>\n",
       "      <td>400.189682</td>\n",
       "      <td>-564.440575</td>\n",
       "      <td>0.000000</td>\n",
       "      <td>0.000000</td>\n",
       "      <td>-208.477591</td>\n",
       "      <td>533.943658</td>\n",
       "    </tr>\n",
       "    <tr>\n",
       "      <th>EnclosedPorch</th>\n",
       "      <td>0.000000</td>\n",
       "      <td>-66.986706</td>\n",
       "      <td>-304.241325</td>\n",
       "      <td>-957.101466</td>\n",
       "      <td>-1424.124428</td>\n",
       "      <td>180.528968</td>\n",
       "      <td>600.893316</td>\n",
       "      <td>0.000000</td>\n",
       "      <td>-528.837653</td>\n",
       "      <td>142.951712</td>\n",
       "      <td>-235.691758</td>\n",
       "      <td>563.869267</td>\n",
       "    </tr>\n",
       "    <tr>\n",
       "      <th>BsmtHalfBath</th>\n",
       "      <td>0.000000</td>\n",
       "      <td>0.000000</td>\n",
       "      <td>0.000000</td>\n",
       "      <td>0.000000</td>\n",
       "      <td>0.000000</td>\n",
       "      <td>0.000000</td>\n",
       "      <td>0.000000</td>\n",
       "      <td>0.000000</td>\n",
       "      <td>0.000000</td>\n",
       "      <td>0.000000</td>\n",
       "      <td>0.000000</td>\n",
       "      <td>0.000000</td>\n",
       "    </tr>\n",
       "    <tr>\n",
       "      <th>FullBath</th>\n",
       "      <td>0.000000</td>\n",
       "      <td>1570.411716</td>\n",
       "      <td>0.000000</td>\n",
       "      <td>637.904766</td>\n",
       "      <td>597.935915</td>\n",
       "      <td>1188.784028</td>\n",
       "      <td>1258.812259</td>\n",
       "      <td>-178.889845</td>\n",
       "      <td>130.699753</td>\n",
       "      <td>884.476246</td>\n",
       "      <td>609.013484</td>\n",
       "      <td>578.866701</td>\n",
       "    </tr>\n",
       "    <tr>\n",
       "      <th>OverallQual</th>\n",
       "      <td>-2936.687282</td>\n",
       "      <td>0.000000</td>\n",
       "      <td>2576.452461</td>\n",
       "      <td>-405.478500</td>\n",
       "      <td>1008.740894</td>\n",
       "      <td>0.000000</td>\n",
       "      <td>185.899899</td>\n",
       "      <td>-319.046184</td>\n",
       "      <td>0.000000</td>\n",
       "      <td>1507.974804</td>\n",
       "      <td>161.785609</td>\n",
       "      <td>1363.554249</td>\n",
       "    </tr>\n",
       "    <tr>\n",
       "      <th>Fireplaces</th>\n",
       "      <td>-4433.592797</td>\n",
       "      <td>-12500.513252</td>\n",
       "      <td>-9268.189401</td>\n",
       "      <td>-8912.555604</td>\n",
       "      <td>-7877.568725</td>\n",
       "      <td>-13966.887049</td>\n",
       "      <td>-15208.216934</td>\n",
       "      <td>-7113.183088</td>\n",
       "      <td>-14633.336113</td>\n",
       "      <td>-7583.997513</td>\n",
       "      <td>-10149.804048</td>\n",
       "      <td>3489.070645</td>\n",
       "    </tr>\n",
       "    <tr>\n",
       "      <th>WoodDeckSF</th>\n",
       "      <td>0.000000</td>\n",
       "      <td>0.000000</td>\n",
       "      <td>245.785007</td>\n",
       "      <td>0.000000</td>\n",
       "      <td>0.000000</td>\n",
       "      <td>-628.806925</td>\n",
       "      <td>16.836950</td>\n",
       "      <td>0.000000</td>\n",
       "      <td>0.000000</td>\n",
       "      <td>1233.533112</td>\n",
       "      <td>86.734814</td>\n",
       "      <td>436.172736</td>\n",
       "    </tr>\n",
       "    <tr>\n",
       "      <th>MoSold</th>\n",
       "      <td>0.000000</td>\n",
       "      <td>0.000000</td>\n",
       "      <td>-123.660156</td>\n",
       "      <td>-483.567859</td>\n",
       "      <td>66.458654</td>\n",
       "      <td>-1247.281151</td>\n",
       "      <td>200.846012</td>\n",
       "      <td>-110.371940</td>\n",
       "      <td>95.427135</td>\n",
       "      <td>-1108.322508</td>\n",
       "      <td>-271.047181</td>\n",
       "      <td>486.271240</td>\n",
       "    </tr>\n",
       "    <tr>\n",
       "      <th>BsmtFullBath</th>\n",
       "      <td>0.000000</td>\n",
       "      <td>0.000000</td>\n",
       "      <td>0.000000</td>\n",
       "      <td>0.000000</td>\n",
       "      <td>0.000000</td>\n",
       "      <td>0.000000</td>\n",
       "      <td>156.003250</td>\n",
       "      <td>0.000000</td>\n",
       "      <td>0.000000</td>\n",
       "      <td>0.000000</td>\n",
       "      <td>15.600325</td>\n",
       "      <td>46.800975</td>\n",
       "    </tr>\n",
       "    <tr>\n",
       "      <th>OpenPorchSF</th>\n",
       "      <td>0.000000</td>\n",
       "      <td>0.000000</td>\n",
       "      <td>679.128244</td>\n",
       "      <td>2883.301605</td>\n",
       "      <td>3371.933289</td>\n",
       "      <td>3627.795493</td>\n",
       "      <td>3237.533212</td>\n",
       "      <td>2955.404175</td>\n",
       "      <td>3700.213470</td>\n",
       "      <td>3366.325317</td>\n",
       "      <td>2382.163481</td>\n",
       "      <td>1442.158455</td>\n",
       "    </tr>\n",
       "  </tbody>\n",
       "</table>\n",
       "</div>"
      ],
      "text/plain": [
       "                     Loco 1        Loco 2        Loco 3        Loco 4  \\\n",
       "BsmtFinSF1      6911.078840   4377.918584    469.478352   3792.206862   \n",
       "ScreenPorch        0.000000      0.000000      0.000000      0.000000   \n",
       "BsmtUnfSF          0.000000    235.770908  -1272.388641  -2245.113585   \n",
       "LowQualFinSF       0.000000      0.000000      0.000000      0.000000   \n",
       "PoolArea           0.000000      0.000000      0.000000      0.000000   \n",
       "HalfBath           0.000000      0.000000      0.000000  -1923.824787   \n",
       "BsmtFinSF2         0.000000      0.000000      0.000000      0.000000   \n",
       "YrSold             0.000000   -103.822459   -108.310131   -465.042801   \n",
       "2ndFlrSF           0.000000    164.641493    428.694211    -43.416967   \n",
       "3SsnPorch          0.000000      0.000000      0.000000      0.000000   \n",
       "1stFlrSF       -1657.771004   6217.166586   1833.585987   1116.583418   \n",
       "LotFrontage     4197.270308   3774.922430   5688.193397   1846.184687   \n",
       "YearBuilt        595.479362   7663.221491   6735.580740   9811.238007   \n",
       "YearRemodAdd   16941.206830   7060.860368   3874.554899   7677.192883   \n",
       "BedroomAbvGr       0.000000      0.000000      0.000000      0.000000   \n",
       "OverallCond      -86.886132  -3668.052177  -2998.833943  -3365.597008   \n",
       "MiscVal            0.000000      0.000000      0.000000      0.000000   \n",
       "LotArea        -8737.235603 -11433.384177  -8840.958926 -13805.750001   \n",
       "GarageArea       417.691971      0.000000    -92.929184   -176.471650   \n",
       "KitchenAbvGr       0.000000      0.000000      0.000000      0.000000   \n",
       "GrLivArea     -18827.035604 -27530.517219 -25202.093643 -30713.635818   \n",
       "MSSubClass         0.000000   -989.306678   -301.593610   2503.493937   \n",
       "MasVnrArea         0.000000      0.000000      0.000000      0.000000   \n",
       "EnclosedPorch      0.000000    -66.986706   -304.241325   -957.101466   \n",
       "BsmtHalfBath       0.000000      0.000000      0.000000      0.000000   \n",
       "FullBath           0.000000   1570.411716      0.000000    637.904766   \n",
       "OverallQual    -2936.687282      0.000000   2576.452461   -405.478500   \n",
       "Fireplaces     -4433.592797 -12500.513252  -9268.189401  -8912.555604   \n",
       "WoodDeckSF         0.000000      0.000000    245.785007      0.000000   \n",
       "MoSold             0.000000      0.000000   -123.660156   -483.567859   \n",
       "BsmtFullBath       0.000000      0.000000      0.000000      0.000000   \n",
       "OpenPorchSF        0.000000      0.000000    679.128244   2883.301605   \n",
       "\n",
       "                     Loco 5        Loco 6        Loco 7        Loco 8  \\\n",
       "BsmtFinSF1      1487.572631   -800.846150   2742.915025  -1400.102230   \n",
       "ScreenPorch        0.000000      0.000000      0.000000      0.000000   \n",
       "BsmtUnfSF         99.541150  -2705.051819   -886.317242   -445.005070   \n",
       "LowQualFinSF       0.000000      0.000000      0.000000      0.000000   \n",
       "PoolArea           0.000000      0.000000      0.000000      0.000000   \n",
       "HalfBath       -1444.634644  -1618.759825  -1960.072845   2128.715759   \n",
       "BsmtFinSF2         0.000000      0.000000      0.000000      0.000000   \n",
       "YrSold          -557.091040  -2365.650830  -1841.693984  -1628.843033   \n",
       "2ndFlrSF         511.587371  -1349.749777   1530.048454  -1771.459257   \n",
       "3SsnPorch          0.000000      0.000000      0.000000      0.000000   \n",
       "1stFlrSF        1540.635909   1688.403648   1156.652793      0.000000   \n",
       "LotFrontage     2849.708321   1916.474717   3031.255785    538.666702   \n",
       "YearBuilt       9539.716565   7976.275072  10509.080008   6037.629108   \n",
       "YearRemodAdd    9713.885591   9391.786455  14355.595775  12497.357426   \n",
       "BedroomAbvGr      46.190372      0.000000    -48.286331      0.000000   \n",
       "OverallCond    -2320.171403  -3424.233607  -1355.549763  -1455.194092   \n",
       "MiscVal            0.000000      0.000000      0.000000      0.000000   \n",
       "LotArea        -9477.599290  -8914.242269  -7548.502365 -14231.058950   \n",
       "GarageArea       -52.499548   -707.918155  -1684.424558   1179.372746   \n",
       "KitchenAbvGr       0.000000      0.000000      0.000000      0.000000   \n",
       "GrLivArea     -31324.548223 -30234.448166 -28935.649630 -25354.918239   \n",
       "MSSubClass      2748.067649   3151.430019   2424.719238   1945.341276   \n",
       "MasVnrArea      -266.492290  -1654.032730    400.189682   -564.440575   \n",
       "EnclosedPorch  -1424.124428    180.528968    600.893316      0.000000   \n",
       "BsmtHalfBath       0.000000      0.000000      0.000000      0.000000   \n",
       "FullBath         597.935915   1188.784028   1258.812259   -178.889845   \n",
       "OverallQual     1008.740894      0.000000    185.899899   -319.046184   \n",
       "Fireplaces     -7877.568725 -13966.887049 -15208.216934  -7113.183088   \n",
       "WoodDeckSF         0.000000   -628.806925     16.836950      0.000000   \n",
       "MoSold            66.458654  -1247.281151    200.846012   -110.371940   \n",
       "BsmtFullBath       0.000000      0.000000    156.003250      0.000000   \n",
       "OpenPorchSF     3371.933289   3627.795493   3237.533212   2955.404175   \n",
       "\n",
       "                     Loco 9       Loco 10  Mean Local Importance  \\\n",
       "BsmtFinSF1       130.457089    361.547235            1807.222624   \n",
       "ScreenPorch        0.000000      0.000000               0.000000   \n",
       "BsmtUnfSF      -2037.272263  -4256.875702           -1351.271226   \n",
       "LowQualFinSF       0.000000      0.000000               0.000000   \n",
       "PoolArea           0.000000      0.000000               0.000000   \n",
       "HalfBath       -2639.397675  -2857.639893           -1031.561391   \n",
       "BsmtFinSF2         0.000000      0.000000               0.000000   \n",
       "YrSold          -146.797810   -474.558171            -769.181026   \n",
       "2ndFlrSF         363.661969  -1025.465900            -119.145840   \n",
       "3SsnPorch          0.000000      0.000000               0.000000   \n",
       "1stFlrSF        3487.437325    608.359297            1599.105396   \n",
       "LotFrontage     -834.471908   2325.118156            2533.332260   \n",
       "YearBuilt      12491.411467   4485.634638            7584.526646   \n",
       "YearRemodAdd   12645.952217  12069.509869           10622.790231   \n",
       "BedroomAbvGr       0.000000      0.000000              -0.209596   \n",
       "OverallCond    -1712.657982   -922.088812           -2130.926492   \n",
       "MiscVal            0.000000      0.000000               0.000000   \n",
       "LotArea        -7833.298042  -7982.658407           -9880.468803   \n",
       "GarageArea     -1454.243546    419.172234            -215.224969   \n",
       "KitchenAbvGr       0.000000      0.000000               0.000000   \n",
       "GrLivArea     -27004.719656 -29859.952837          -27498.751904   \n",
       "MSSubClass      1890.060591   1683.539833            1505.575226   \n",
       "MasVnrArea         0.000000      0.000000            -208.477591   \n",
       "EnclosedPorch   -528.837653    142.951712            -235.691758   \n",
       "BsmtHalfBath       0.000000      0.000000               0.000000   \n",
       "FullBath         130.699753    884.476246             609.013484   \n",
       "OverallQual        0.000000   1507.974804             161.785609   \n",
       "Fireplaces    -14633.336113  -7583.997513          -10149.804048   \n",
       "WoodDeckSF         0.000000   1233.533112              86.734814   \n",
       "MoSold            95.427135  -1108.322508            -271.047181   \n",
       "BsmtFullBath       0.000000      0.000000              15.600325   \n",
       "OpenPorchSF     3700.213470   3366.325317            2382.163481   \n",
       "\n",
       "               Std. Dev. Local Importance  \n",
       "BsmtFinSF1                    2477.008679  \n",
       "ScreenPorch                      0.000000  \n",
       "BsmtUnfSF                     1379.783573  \n",
       "LowQualFinSF                     0.000000  \n",
       "PoolArea                         0.000000  \n",
       "HalfBath                      1458.530342  \n",
       "BsmtFinSF2                       0.000000  \n",
       "YrSold                         807.511992  \n",
       "2ndFlrSF                       939.005105  \n",
       "3SsnPorch                        0.000000  \n",
       "1stFlrSF                      1988.296059  \n",
       "LotFrontage                   1755.797259  \n",
       "YearBuilt                     3211.459428  \n",
       "YearRemodAdd                  3644.179688  \n",
       "BedroomAbvGr                    21.129792  \n",
       "OverallCond                   1149.828176  \n",
       "MiscVal                          0.000000  \n",
       "LotArea                       2312.166379  \n",
       "GarageArea                     823.022899  \n",
       "KitchenAbvGr                     0.000000  \n",
       "GrLivArea                     3541.335588  \n",
       "MSSubClass                    1349.934782  \n",
       "MasVnrArea                     533.943658  \n",
       "EnclosedPorch                  563.869267  \n",
       "BsmtHalfBath                     0.000000  \n",
       "FullBath                       578.866701  \n",
       "OverallQual                   1363.554249  \n",
       "Fireplaces                    3489.070645  \n",
       "WoodDeckSF                     436.172736  \n",
       "MoSold                         486.271240  \n",
       "BsmtFullBath                    46.800975  \n",
       "OpenPorchSF                   1442.158455  "
      ]
     },
     "execution_count": 17,
     "metadata": {},
     "output_type": "execute_result"
    }
   ],
   "source": [
    "median_loco_frames = []\n",
    "col_names = ['Loco ' + str(i) for i in range(1, n_models + 1)]\n",
    "\n",
    "for i in range(0, n_models):\n",
    "    \n",
    "    # collect LOCO as a column vector in a Pandas df\n",
    "    preds = pred_frames[i]\n",
    "    median_loco_frames.append(preds[preds['Id'] == int(quantile_dict[50]), :]\\\n",
    "                              .as_data_frame()\\\n",
    "                              .drop(['Id', 'predict'], axis=1)\n",
    "                              .T)\n",
    "    \n",
    "loco_ensemble = pd.concat(median_loco_frames, axis=1) \n",
    "loco_ensemble.columns = col_names\n",
    "loco_ensemble['Mean Local Importance'] = loco_ensemble.mean(axis=1)\n",
    "loco_ensemble['Std. Dev. Local Importance'] = loco_ensemble.std(axis=1)\n",
    "loco_ensemble"
   ]
  },
  {
   "cell_type": "markdown",
   "metadata": {},
   "source": [
    "#### Negative mean reason codes"
   ]
  },
  {
   "cell_type": "code",
   "execution_count": 18,
   "metadata": {
    "collapsed": false
   },
   "outputs": [
    {
     "data": {
      "image/png": "[encoded data removed]",
      "text/plain": [
       "<matplotlib.figure.Figure at 0x1194b4ac8>"
      ]
     },
     "metadata": {},
     "output_type": "display_data"
    }
   ],
   "source": [
    "median_mean_loco = loco_ensemble['Mean Local Importance'].sort_values()[:5]\n",
    "_ = median_mean_loco.plot(kind='bar', \n",
    "                          title='Negative Mean Reason Codes for the Median of Predicted Sale Price\\n', \n",
    "                          legend=False)"
   ]
  },
  {
   "cell_type": "markdown",
   "metadata": {},
   "source": [
    "#### Positive mean reason codes"
   ]
  },
  {
   "cell_type": "code",
   "execution_count": 19,
   "metadata": {
    "collapsed": false
   },
   "outputs": [
    {
     "data": {
      "image/png": "[encoded data removed]",
      "text/plain": [
       "<matplotlib.figure.Figure at 0x119eb6908>"
      ]
     },
     "metadata": {},
     "output_type": "display_data"
    }
   ],
   "source": [
    "median_mean_loco = loco_ensemble['Mean Local Importance'].sort_values(ascending=False)[:5]\n",
    "_ = median_mean_loco.plot(kind='bar', \n",
    "                          title='Positive Mean Reason Codes for the Median of Predicted Sale Price\\n', \n",
    "                          color='r',\n",
    "                          legend=False)"
   ]
  },
  {
   "cell_type": "markdown",
   "metadata": {},
   "source": [
    "#### Shutdown H2O"
   ]
  },
  {
   "cell_type": "code",
   "execution_count": 20,
   "metadata": {
    "collapsed": false
   },
   "outputs": [
    {
     "name": "stdout",
     "output_type": "stream",
     "text": [
      "Are you sure you want to shutdown the H2O instance running at http://127.0.0.1:54321 (Y/N)? y\n",
      "H2O session _sid_8f7e closed.\n"
     ]
    }
   ],
   "source": [
    "h2o.cluster().shutdown(prompt=True)"
   ]
  }
 ],
 "metadata": {
  "anaconda-cloud": {},
  "kernelspec": {
   "display_name": "Python [conda root]",
   "language": "python",
   "name": "conda-root-py"
  },
  "language_info": {
   "codemirror_mode": {
    "name": "ipython",
    "version": 3
   },
   "file_extension": ".py",
   "mimetype": "text/x-python",
   "name": "python",
   "nbconvert_exporter": "python",
   "pygments_lexer": "ipython3",
   "version": "3.5.2"
  }
 },
 "nbformat": 4,
 "nbformat_minor": 2
}
